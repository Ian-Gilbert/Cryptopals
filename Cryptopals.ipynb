{
 "cells": [
  {
   "cell_type": "markdown",
   "metadata": {},
   "source": [
    "---\n",
    "# Set 1\n",
    "\n",
    "##### Basics\n",
    "---"
   ]
  },
  {
   "cell_type": "markdown",
   "metadata": {},
   "source": [
    "### Challenge 1\n",
    "\n",
    "Convert hex to base64"
   ]
  },
  {
   "cell_type": "code",
   "execution_count": 9,
   "metadata": {},
   "outputs": [
    {
     "data": {
      "text/plain": [
       "'535364744947747062477870626d63676557393163694269636d4670626942736157746c4947456763473970633239756233567a494731316332687962323974'"
      ]
     },
     "execution_count": 9,
     "metadata": {},
     "output_type": "execute_result"
    }
   ],
   "source": [
    "from base64 import b64encode\n",
    "\n",
    "def hex_to_base64(hexstring):\n",
    "    byte_seq = bytes.fromhex(hexstring)\n",
    "    return b64encode(byte_seq)\n",
    "\n",
    "hex_to_base64('49276d206b696c6c696e6720796f757220627261696e206c696b65206120706f69736f6e6f7573206d757368726f6f6d').hex()"
   ]
  },
  {
   "cell_type": "markdown",
   "metadata": {},
   "source": [
    "### Challenge 2\n",
    "\n",
    "**Fixed XOR:**\n",
    "Write a function that takes two equal-length buffers and produces their XOR combination."
   ]
  },
  {
   "cell_type": "code",
   "execution_count": 10,
   "metadata": {},
   "outputs": [
    {
     "name": "stdout",
     "output_type": "stream",
     "text": [
      "b\"the kid don't play\"\n"
     ]
    }
   ],
   "source": [
    "def fixed_xor(byte_seq1, byte_seq2):\n",
    "    xor = b''\n",
    "    for i, j in zip(byte_seq1, byte_seq2):\n",
    "        xor += bytes([i ^ j])\n",
    "    return xor\n",
    "\n",
    "def main():\n",
    "    byte_seq1 = bytes.fromhex('1c0111001f010100061a024b53535009181c')\n",
    "    byte_seq2 = bytes.fromhex('686974207468652062756c6c277320657965')\n",
    "    print(fixed_xor(byte_seq1, byte_seq2))\n",
    "    \n",
    "main()"
   ]
  },
  {
   "cell_type": "markdown",
   "metadata": {},
   "source": [
    "### Challenge 3\n",
    "\n",
    "Single-byte XOR cipher"
   ]
  },
  {
   "cell_type": "code",
   "execution_count": 11,
   "metadata": {},
   "outputs": [
    {
     "data": {
      "text/plain": [
       "{'Message': b\"Cooking MC's like a pound of bacon\", 'Key': 88, 'Score': 2.14329}"
      ]
     },
     "execution_count": 11,
     "metadata": {},
     "output_type": "execute_result"
    }
   ],
   "source": [
    "def get_score(input_bytes):\n",
    "    letter_frequencies = {\n",
    "        'a': .08167, 'b': .01492, 'c': .02782, 'd': .04253,\n",
    "        'e': .12702, 'f': .02228, 'g': .02015, 'h': .06094,\n",
    "        'i': .06094, 'j': .00153, 'k': .00772, 'l': .04025,\n",
    "        'm': .02406, 'n': .06749, 'o': .07507, 'p': .01929,\n",
    "        'q': .00095, 'r': .05987, 's': .06327, 't': .09056,\n",
    "        'u': .02758, 'v': .00978, 'w': .02360, 'x': .00150,\n",
    "        'y': .01974, 'z': .00074, ' ': .13000\n",
    "    }\n",
    "    return sum([letter_frequencies.get(chr(byte), 0) for byte in input_bytes.lower()])\n",
    "\n",
    "def break_sbyte_xor(byte_seq):\n",
    "    potential_messages = []\n",
    "    \n",
    "    for key_value in range(256):  # each ascii character\n",
    "        message = b''\n",
    "        \n",
    "        for byte in byte_seq:\n",
    "            xor = bytes([key_value ^ byte])\n",
    "            message += xor\n",
    "        \n",
    "        data = {'Message': message, 'Key': key_value, 'Score': get_score(message)}\n",
    "        potential_messages.append(data)\n",
    "        \n",
    "    best_score = sorted(potential_messages, key=lambda x: x['Score'], reverse=True)[0]\n",
    "    return best_score\n",
    "\n",
    "break_sbyte_xor(bytes.fromhex('1b37373331363f78151b7f2b783431333d78397828372d363c78373e783a393b3736'))"
   ]
  },
  {
   "cell_type": "markdown",
   "metadata": {},
   "source": [
    "### Challenge 4\n",
    "\n",
    "Detect single-character XOR"
   ]
  },
  {
   "cell_type": "code",
   "execution_count": 12,
   "metadata": {},
   "outputs": [
    {
     "name": "stdout",
     "output_type": "stream",
     "text": [
      "{'Message': b'Now that the party is jumping\\n', 'Key': 53, 'Score': 2.03479}\n"
     ]
    }
   ],
   "source": [
    "from urllib.request import urlopen\n",
    "\n",
    "def detect_sbyte_xor(lines):\n",
    "    potential_plaintext = []\n",
    "    \n",
    "    for line in lines:\n",
    "        # Use break_sbyte_xor() method from Challenge 3\n",
    "        potential_plaintext.append(break_sbyte_xor(line))\n",
    "    \n",
    "    best_line = sorted(potential_plaintext, key=lambda x: x['Score'], reverse=True)[0]\n",
    "    return best_line\n",
    "\n",
    "def main():\n",
    "    lines = []\n",
    "    with urlopen('https://cryptopals.com/static/challenge-data/4.txt') as data:\n",
    "        for line in data:\n",
    "            lines.append(bytes.fromhex(line.rstrip().decode()))\n",
    "    print(detect_sbyte_xor(lines))\n",
    "\n",
    "main()"
   ]
  },
  {
   "cell_type": "markdown",
   "metadata": {},
   "source": [
    "### Challenge 5\n",
    "\n",
    "Implement repeating-key XOR (Vignere Cipher)"
   ]
  },
  {
   "cell_type": "code",
   "execution_count": 13,
   "metadata": {},
   "outputs": [
    {
     "data": {
      "text/plain": [
       "'0b3637272a2b2e63622c2e69692a23693a2a3c6324202d623d63343c2a26226324272765272a282b2f20690a652e2c652a3124333a653e2b2027630c692b20283165286326302e27282f'"
      ]
     },
     "execution_count": 13,
     "metadata": {},
     "output_type": "execute_result"
    }
   ],
   "source": [
    "def repeating_key_xor(message, key):\n",
    "    message = message\n",
    "    key = key\n",
    "    ciphertext = b''\n",
    "    \n",
    "    for i in range(len(message)):\n",
    "        m = message[i]  # current byte from message\n",
    "        k = key[i % len(key)]  # byte of key for XOR\n",
    "        \n",
    "        xor = bytes([m ^ k])\n",
    "        ciphertext += xor\n",
    "    \n",
    "    return ciphertext\n",
    "\n",
    "repeating_key_xor(b\"Burning 'em, if you ain't quick and nimble I go crazy when I hear a cymbal\", b\"ICE\").hex()"
   ]
  },
  {
   "cell_type": "markdown",
   "metadata": {},
   "source": [
    "### Challenge 6\n",
    "\n",
    "Break repeating-key XOR (Vigenere Cipher)"
   ]
  },
  {
   "cell_type": "code",
   "execution_count": 14,
   "metadata": {},
   "outputs": [
    {
     "name": "stdout",
     "output_type": "stream",
     "text": [
      "{'Message': b\"I'm back and I'm ringin' the bell \\nA rockin' on the mike while the fly girls yell \\nIn ecstasy in the back of me \\nWell that's my DJ Deshay cuttin' all them Z's \\nHittin' hard and the girlies goin' crazy \\nVanilla's on the mike, man I'm not lazy. \\n\\nI'm lettin' my drug kick in \\nIt controls my mouth and I begin \\nTo just let it flow, let my concepts go \\nMy posse's to the side yellin', Go Vanilla Go! \\n\\nSmooth 'cause that's the way I will be \\nAnd if you don't give a damn, then \\nWhy you starin' at me \\nSo get off 'cause I control the stage \\nThere's no dissin' allowed \\nI'm in my own phase \\nThe girlies sa y they love me and that is ok \\nAnd I can dance better than any kid n' play \\n\\nStage 2 -- Yea the one ya' wanna listen to \\nIt's off my head so let the beat play through \\nSo I can funk it up and make it sound good \\n1-2-3 Yo -- Knock on some wood \\nFor good luck, I like my rhymes atrocious \\nSupercalafragilisticexpialidocious \\nI'm an effect and that you can bet \\nI can take a fly girl and make her wet. \\n\\nI'm like Samson -- Samson to Delilah \\nThere's no denyin', You can try to hang \\nBut you'll keep tryin' to get my style \\nOver and over, practice makes perfect \\nBut not if you're a loafer. \\n\\nYou'll get nowhere, no place, no time, no girls \\nSoon -- Oh my God, homebody, you probably eat \\nSpaghetti with a spoon! Come on and say it! \\n\\nVIP. Vanilla Ice yep, yep, I'm comin' hard like a rhino \\nIntoxicating so you stagger like a wino \\nSo punks stop trying and girl stop cryin' \\nVanilla Ice is sellin' and you people are buyin' \\n'Cause why the freaks are jockin' like Crazy Glue \\nMovin' and groovin' trying to sing along \\nAll through the ghetto groovin' this here song \\nNow you're amazed by the VIP posse. \\n\\nSteppin' so hard like a German Nazi \\nStartled by the bases hittin' ground \\nThere's no trippin' on mine, I'm just gettin' down \\nSparkamatic, I'm hangin' tight like a fanatic \\nYou trapped me once and I thought that \\nYou might have it \\nSo step down and lend me your ear \\n'89 in my time! You, '90 is my year. \\n\\nYou're weakenin' fast, YO! and I can tell it \\nYour body's gettin' hot, so, so I can smell it \\nSo don't be mad and don't be sad \\n'Cause the lyrics belong to ICE, You can call me Dad \\nYou're pitchin' a fit, so step back and endure \\nLet the witch doctor, Ice, do the dance to cure \\nSo come up close and don't be square \\nYou wanna battle me -- Anytime, anywhere \\n\\nYou thought that I was weak, Boy, you're dead wrong \\nSo come on, everybody and sing this song \\n\\nSay -- Play that funky music Say, go white boy, go white boy go \\nplay that funky music Go white boy, go white boy, go \\nLay down and boogie and play that funky music till you die. \\n\\nPlay that funky music Come on, Come on, let me hear \\nPlay that funky music white boy you say it, say it \\nPlay that funky music A little louder now \\nPlay that funky music, white boy Come on, Come on, Come on \\nPlay that funky music \\n\", 'Key': b'Terminator X: Bring the noise'}\n"
     ]
    }
   ],
   "source": [
    "from urllib.request import urlopen\n",
    "import numpy as np\n",
    "from itertools import combinations\n",
    "from base64 import b64decode\n",
    "\n",
    "def hamming(block1, block2):\n",
    "    \"\"\"Returns the Hamming distance between two equal length byte strings\"\"\"\n",
    "    distance = 0\n",
    "    for byte1, byte2 in zip(block1, block2):\n",
    "        byte1 = bin(byte1)[2:].zfill(8).encode()\n",
    "        byte2 = bin(byte2)[2:].zfill(8).encode()\n",
    "        distance += sum([1 for bit1, bit2 in zip(byte1, byte2) if bit1 != bit2])\n",
    "    return distance\n",
    "\n",
    "def break_repeating_key_xor(ciphertext):\n",
    "    # Find the keysize, taking advantage of the fact that the Hamming distance between\n",
    "    # Engligh characters will, on average, be less than the distance between random bytes.\n",
    "    avg_norm_hd = []  # Averaged normilized Hamming distance\n",
    "    for keysize in range(2, 41):\n",
    "        blocks = [ciphertext[i:i+keysize] for i in range(0, len(ciphertext), keysize)]  # break message into keysize-sized blocks\n",
    "        norm_hd = []  # Normalized Hamming distance\n",
    "        \n",
    "        for block1, block2 in combinations(blocks, 2):  # compute the Hamming distance between each block\n",
    "            norm_hd.append(hamming(block1, block2) / keysize)\n",
    "        avg_norm_hd.append({'Keysize': keysize, 'Score': np.mean(norm_hd)})\n",
    "        \n",
    "    avg_norm_hd = sorted(avg_norm_hd, key=lambda x: x['Score'])[:3]  # Top three results for the keysize\n",
    "    \n",
    "    # For each of the top 3 keysizes, transpose the blocks (i.e. chunk ciphertext into blocks with multiples of keysize, then keysize + 1, etc...).\n",
    "    # Then solve each block with single byte xor, and combine the resulting keys to form the potential key for that keysize.\n",
    "    # The score for the final key will be the score for all the single byte keys added together. Rank the final keys, and decrypt using the best one.\n",
    "    possible_key_list = []\n",
    "    for item in avg_norm_hd:\n",
    "        keysize = item['Keysize']\n",
    "        possible_key = b''\n",
    "        key_score = 0\n",
    "        \n",
    "        # Transpose the blocks\n",
    "        for i in range(keysize):\n",
    "            block = b''\n",
    "            for j in range(i, len(ciphertext), keysize):\n",
    "                block += bytes([ciphertext[j]])\n",
    "            \n",
    "            key_info = break_sbyte_xor(block)  # Use break_sbyte_xor() method from Challenge 3\n",
    "            possible_key += chr(key_info['Key']).encode()  # add single byte key to potential key\n",
    "            key_score += key_info['Score']  # add score for single byte key to the score for the potential key\n",
    "        \n",
    "        possible_key_list.append({'Key': possible_key, 'Score': key_score})\n",
    "    \n",
    "    # Sort potential keys, and decrypt using the best one\n",
    "    best_key = sorted(possible_key_list, key=lambda x: x['Score'], reverse=True)[0]['Key']\n",
    "    message = repeating_key_xor(ciphertext, best_key)  # Use repeating_key_xor() method from Challenge 5\n",
    "    return {'Message': message, 'Key': best_key}\n",
    "\n",
    "def main():\n",
    "    # Load message, removing new line characters along the way\n",
    "    ciphertext = b''\n",
    "    with urlopen('https://cryptopals.com/static/challenge-data/6.txt') as data:\n",
    "        for line in data:\n",
    "            ciphertext += b64decode(line.rstrip())\n",
    "    print(break_repeating_key_xor(ciphertext))\n",
    "\n",
    "main()"
   ]
  },
  {
   "cell_type": "markdown",
   "metadata": {},
   "source": [
    "### Challenge 7\n",
    "\n",
    "AES in ECB mode"
   ]
  },
  {
   "cell_type": "code",
   "execution_count": 15,
   "metadata": {},
   "outputs": [
    {
     "name": "stdout",
     "output_type": "stream",
     "text": [
      "b\"I'm back and I'm ringin' the bell \\nA rockin' on the mike while the fly girls yell \\nIn ecstasy in the back of me \\nWell that's my DJ Deshay cuttin' all them Z's \\nHittin' hard and the girlies goin' crazy \\nVanilla's on the mike, man I'm not lazy. \\n\\nI'm lettin' my drug kick in \\nIt controls my mouth and I begin \\nTo just let it flow, let my concepts go \\nMy posse's to the side yellin', Go Vanilla Go! \\n\\nSmooth 'cause that's the way I will be \\nAnd if you don't give a damn, then \\nWhy you starin' at me \\nSo get off 'cause I control the stage \\nThere's no dissin' allowed \\nI'm in my own phase \\nThe girlies sa y they love me and that is ok \\nAnd I can dance better than any kid n' play \\n\\nStage 2 -- Yea the one ya' wanna listen to \\nIt's off my head so let the beat play through \\nSo I can funk it up and make it sound good \\n1-2-3 Yo -- Knock on some wood \\nFor good luck, I like my rhymes atrocious \\nSupercalafragilisticexpialidocious \\nI'm an effect and that you can bet \\nI can take a fly girl and make her wet. \\n\\nI'm like Samson -- Samson to Delilah \\nThere's no denyin', You can try to hang \\nBut you'll keep tryin' to get my style \\nOver and over, practice makes perfect \\nBut not if you're a loafer. \\n\\nYou'll get nowhere, no place, no time, no girls \\nSoon -- Oh my God, homebody, you probably eat \\nSpaghetti with a spoon! Come on and say it! \\n\\nVIP. Vanilla Ice yep, yep, I'm comin' hard like a rhino \\nIntoxicating so you stagger like a wino \\nSo punks stop trying and girl stop cryin' \\nVanilla Ice is sellin' and you people are buyin' \\n'Cause why the freaks are jockin' like Crazy Glue \\nMovin' and groovin' trying to sing along \\nAll through the ghetto groovin' this here song \\nNow you're amazed by the VIP posse. \\n\\nSteppin' so hard like a German Nazi \\nStartled by the bases hittin' ground \\nThere's no trippin' on mine, I'm just gettin' down \\nSparkamatic, I'm hangin' tight like a fanatic \\nYou trapped me once and I thought that \\nYou might have it \\nSo step down and lend me your ear \\n'89 in my time! You, '90 is my year. \\n\\nYou're weakenin' fast, YO! and I can tell it \\nYour body's gettin' hot, so, so I can smell it \\nSo don't be mad and don't be sad \\n'Cause the lyrics belong to ICE, You can call me Dad \\nYou're pitchin' a fit, so step back and endure \\nLet the witch doctor, Ice, do the dance to cure \\nSo come up close and don't be square \\nYou wanna battle me -- Anytime, anywhere \\n\\nYou thought that I was weak, Boy, you're dead wrong \\nSo come on, everybody and sing this song \\n\\nSay -- Play that funky music Say, go white boy, go white boy go \\nplay that funky music Go white boy, go white boy, go \\nLay down and boogie and play that funky music till you die. \\n\\nPlay that funky music Come on, Come on, let me hear \\nPlay that funky music white boy you say it, say it \\nPlay that funky music A little louder now \\nPlay that funky music, white boy Come on, Come on, Come on \\nPlay that funky music \\n\\x04\\x04\\x04\\x04\"\n"
     ]
    }
   ],
   "source": [
    "from urllib.request import urlopen\n",
    "from base64 import b64decode\n",
    "from cryptography.hazmat.primitives.ciphers import Cipher, algorithms, modes\n",
    "from cryptography.hazmat.backends import default_backend\n",
    "\n",
    "def AES_128_ECB_encrypt(plaintext, key):\n",
    "    cipher = Cipher(algorithms.AES(key), modes.ECB(), backend=default_backend())\n",
    "    encryptor = cipher.encryptor()\n",
    "    ciphertext = encryptor.update(plaintext) + encryptor.finalize()\n",
    "    return ciphertext\n",
    "\n",
    "def AES_128_ECB_decrypt(ciphertext, key):\n",
    "    cipher = Cipher(algorithms.AES(key), modes.ECB(), backend=default_backend())\n",
    "    decryptor = cipher.decryptor()\n",
    "    plaintext = decryptor.update(ciphertext) + decryptor.finalize()\n",
    "    return plaintext\n",
    "\n",
    "def main():\n",
    "    ciphertext = b''\n",
    "    with urlopen('https://cryptopals.com/static/challenge-data/7.txt') as data:\n",
    "        for line in data:\n",
    "            ciphertext += b64decode(line.rstrip())\n",
    "    print(AES_128_ECB_decrypt(ciphertext, b'YELLOW SUBMARINE'))\n",
    "\n",
    "main()"
   ]
  },
  {
   "cell_type": "markdown",
   "metadata": {},
   "source": [
    "### Challenge 8\n",
    "\n",
    "Detect AES in ECB mode"
   ]
  },
  {
   "cell_type": "code",
   "execution_count": 16,
   "metadata": {},
   "outputs": [
    {
     "name": "stdout",
     "output_type": "stream",
     "text": [
      "ECB mode detected on line 133\n",
      "Number of repetitions = 3\n",
      "\n",
      "d880619740a8a19b7840a8a31c810a3d08649af70dc06f4fd5d2d69c744cd283e2dd052f6b641dbf9d11b0348542bb5708649af70dc06f4fd5d2d69c744cd2839475c9dfdbc1d46597949d9c7e82bf5a08649af70dc06f4fd5d2d69c744cd28397a93eab8d6aecd566489154789a6b0308649af70dc06f4fd5d2d69c744cd283d403180c98c8f6db1f2a3f9c4040deb0ab51b29933f2c123c58386b06fba186a\n"
     ]
    }
   ],
   "source": [
    "from urllib.request import urlopen\n",
    "\n",
    "def detect_AES_ECB(ciphertext, keysize=16):\n",
    "    blocks = [ciphertext[i:i+keysize] for i in range(0, len(ciphertext), keysize)]\n",
    "    return len(blocks) - len(set(blocks))\n",
    "\n",
    "def main():\n",
    "    scores = []\n",
    "    ciphertext_list = []\n",
    "    with urlopen('https://cryptopals.com/static/challenge-data/8.txt') as data:\n",
    "        for line in data:\n",
    "            ciphertext = bytes.fromhex(line.rstrip().decode())\n",
    "            scores.append(detect_AES_ECB(ciphertext))\n",
    "            ciphertext_list.append(ciphertext)\n",
    "    \n",
    "    best_score = max(scores)\n",
    "    print(f\"ECB mode detected on line {scores.index(best_score) + 1}\\nNumber of repetitions = {best_score}\")\n",
    "    print()\n",
    "    print(ciphertext_list[scores.index(best_score)].hex())\n",
    "    \n",
    "main()"
   ]
  },
  {
   "cell_type": "markdown",
   "metadata": {},
   "source": [
    "---\n",
    "# Set 2\n",
    "\n",
    "##### Block Crypto\n",
    "---"
   ]
  },
  {
   "cell_type": "markdown",
   "metadata": {},
   "source": [
    "### Challenge 9\n",
    "\n",
    "Implement PKCS#7 padding"
   ]
  },
  {
   "cell_type": "code",
   "execution_count": 70,
   "metadata": {},
   "outputs": [
    {
     "name": "stdout",
     "output_type": "stream",
     "text": [
      "b'YELLOW SUBMARINE' -> b'YELLOW SUBMARINE\\x04\\x04\\x04\\x04' -> b'YELLOW SUBMARINE'\n"
     ]
    }
   ],
   "source": [
    "\"\"\"Superseded by Challenge 15\"\"\"\n",
    "\n",
    "def PKCS7_pad(plaintext, block_size):\n",
    "    pad_size = block_size - (len(plaintext) % block_size)\n",
    "    assert 0 < pad_size < 256\n",
    "    padding = b''.join([bytes([pad_size] * pad_size)])\n",
    "    return plaintext + padding\n",
    "\n",
    "def PKCS7_unpad(padded_data):\n",
    "    pad_size = padded_data[-1]\n",
    "    unpadded_data = padded_data[:-pad_size]\n",
    "    return unpadded_data\n",
    "\n",
    "def main():\n",
    "    data = b'YELLOW SUBMARINE'\n",
    "    padded_data = PKCS7_pad(data, 20)\n",
    "    unpadded_data = PKCS7_unpad(padded_data)\n",
    "    print(f'{data} -> {padded_data} -> {unpadded_data}')\n",
    "\n",
    "main()"
   ]
  },
  {
   "cell_type": "code",
   "execution_count": 10,
   "metadata": {},
   "outputs": [
    {
     "name": "stdout",
     "output_type": "stream",
     "text": [
      "b'It was the best of times, it was the worst of times, it was the age of wisdom, it was the age of foolishness, it was the epoch of belief, it was the epoch of incredulity, it was the season of Light, it was the season of Darkness, it was the spring of hope, it was the winter of despair.'\n"
     ]
    }
   ],
   "source": [
    "# The following is a test of the AES_ECB encrypt and decrypt methods.\n",
    "\n",
    "# message = PKCS7_pad(\n",
    "#     b'It was the best of times, it was the worst of times, '\n",
    "#     b'it was the age of wisdom, it was the age of foolishness, '\n",
    "#     b'it was the epoch of belief, it was the epoch of incredulity, '\n",
    "#     b'it was the season of Light, it was the season of Darkness, '\n",
    "#     b'it was the spring of hope, it was the winter of despair.', 16\n",
    "# )\n",
    "# key = b'YELLOW SUBMARINE'\n",
    "# ciphertext = AES_128_ECB_encrypt(message, key)\n",
    "# plaintext = PKCS7_unpad(AES_128_ECB_decrypt(ciphertext, key))\n",
    "# print(plaintext)"
   ]
  },
  {
   "cell_type": "markdown",
   "metadata": {},
   "source": [
    "### Challenge 10\n",
    "\n",
    "Implement CBC mode"
   ]
  },
  {
   "cell_type": "code",
   "execution_count": 18,
   "metadata": {},
   "outputs": [
    {
     "name": "stdout",
     "output_type": "stream",
     "text": [
      "b'It was the best of times, it was the worst of times, it was the age of wisdom, it was the age of foolishness, it was the epoch of belief, it was the epoch of incredulity, it was the season of Light, it was the season of Darkness, it was the spring of hope, it was the winter of despair.'\n"
     ]
    }
   ],
   "source": [
    "import os\n",
    "from urllib.request import urlopen\n",
    "\n",
    "def AES_128_CBC_encrypt(plaintext, key, iv):\n",
    "    # Key must be 128, 192, or 256 bits, and plaintext must already be padded\n",
    "    assert len(key) == 16 or len(key) == 24 or len(key) == 32\n",
    "    assert len(plaintext) % 16 == 0\n",
    "    \n",
    "    blocks = [plaintext[i:i+16] for i in range(0, len(plaintext), 16)]\n",
    "    ciphertext_blocks = []\n",
    "    \n",
    "    for block in blocks:\n",
    "        if len(ciphertext_blocks) == 0:\n",
    "            xor_block = fixed_xor(block, iv)  # fixed_xor() from Challenge 2\n",
    "        else:\n",
    "            xor_block = fixed_xor(block, ciphertext_blocks[-1])  # fixed_xor() from Challenge 2\n",
    "        \n",
    "        ciphertext_blocks.append(AES_128_ECB_encrypt(xor_block, key))  # ECB encryption from Challenge 7\n",
    "    \n",
    "    ciphertext = b''.join(ciphertext_blocks)\n",
    "    return ciphertext\n",
    "\n",
    "def AES_128_CBC_decrypt(ciphertext, key, iv):\n",
    "    # Key must be 128, 192, or 256 bits, and ciphertext must already be padded\n",
    "    assert len(key) == 16 or len(key) == 24 or len(key) == 32\n",
    "    assert len(ciphertext) % 16 == 0\n",
    "    \n",
    "    blocks = [ciphertext[i:i+16] for i in range(0, len(ciphertext), 16)]\n",
    "    plaintext_blocks = []\n",
    "    \n",
    "    for i in range(len(blocks)):\n",
    "        block = blocks[i]\n",
    "        \n",
    "        decrypted_block = AES_128_ECB_decrypt(block, key)  # ECB decryption from Challenge 7\n",
    "        \n",
    "        if len(plaintext_blocks) == 0:\n",
    "            plaintext_blocks.append(fixed_xor(decrypted_block, iv))  # fixed_xor() from Challenge 2\n",
    "        else:\n",
    "            plaintext_blocks.append(fixed_xor(decrypted_block, blocks[i - 1]))  # fixed_xor() from Challenge 2\n",
    "    \n",
    "    plaintext = b''.join(plaintext_blocks)\n",
    "    return plaintext\n",
    "            \n",
    "def main():\n",
    "    key = b'YELLOW SUBMARINE'\n",
    "    iv = os.urandom(16)\n",
    "    message = PKCS7_pad(  # Padding function from Challenge 9\n",
    "        b'It was the best of times, it was the worst of times, it was the age of wisdom, '\n",
    "        b'it was the age of foolishness, it was the epoch of belief, it was the epoch of incredulity, '\n",
    "        b'it was the season of Light, it was the season of Darkness, it was the spring of hope, '\n",
    "        b'it was the winter of despair.', 16\n",
    "    )\n",
    "    ciphertext = AES_128_CBC_encrypt(message, key, iv)\n",
    "    plaintext = PKCS7_unpad(AES_128_CBC_decrypt(ciphertext, key, iv))  # Padding function from Challenge 9\n",
    "    print(plaintext)\n",
    "    \n",
    "#     key = b'YELLOW SUBMARINE'\n",
    "#     iv = bytes(16)\n",
    "#     ciphertext = b''\n",
    "#     with urlopen('https://cryptopals.com/static/challenge-data/10.txt') as data:\n",
    "#         for line in data:\n",
    "#             ciphertext += b64decode(line.rstrip())\n",
    "    \n",
    "#     plaintext = PKCS7_unpad(AES_128_CBC_decrypt(ciphertext, key, iv))  # Padding function from Challenge 9\n",
    "#     print(plaintext)\n",
    "    \n",
    "main()"
   ]
  },
  {
   "cell_type": "markdown",
   "metadata": {},
   "source": [
    "### Challenge 11\n",
    "\n",
    "An ECB/CBC detection oracle"
   ]
  },
  {
   "cell_type": "code",
   "execution_count": 19,
   "metadata": {},
   "outputs": [
    {
     "name": "stdout",
     "output_type": "stream",
     "text": [
      "The mode was correct 100.0% of the time.\n"
     ]
    }
   ],
   "source": [
    "import os\n",
    "from random import randint\n",
    "\n",
    "def encryption_oracle(plaintext):\n",
    "    rand_key = os.urandom(16)\n",
    "    front_pad = os.urandom(randint(5, 10))\n",
    "    back_pad = os.urandom(randint(5, 10))\n",
    "    data = PKCS7_pad(front_pad + plaintext + back_pad, 16)\n",
    "    if randint(0, 1):\n",
    "        return AES_128_ECB_encrypt(data, rand_key), 'ECB'\n",
    "    else:\n",
    "        return AES_128_CBC_encrypt(data, rand_key, iv=os.urandom(16)), 'CBC'\n",
    "\n",
    "def detect_ECB_or_CBC(ciphertext, plaintext_length):\n",
    "    score = detect_AES_ECB(ciphertext)  # from Challenge 8\n",
    "    \n",
    "    # If at least half of the blocks are duplicates, then we guess ECB mode.\n",
    "    # The 50% requirement is somewhat arbitrary, but is based on Challenge 12.\n",
    "    # For my code here, you can increase the requirement to 66% before it\n",
    "    # starts making mistakes\n",
    "    if (score / (plaintext_length // 16)) * 100 >= 50:\n",
    "        return 'ECB'\n",
    "    else:\n",
    "        return 'CBC'\n",
    "\n",
    "def main():\n",
    "    percentage = 0\n",
    "    r = 10000\n",
    "    for _ in range(r):\n",
    "        message = b'A' * randint(100, 200)\n",
    "        ciphertext, mode = encryption_oracle(message)\n",
    "        potential_mode = detect_ECB_or_CBC(ciphertext, len(message))\n",
    "        if mode == potential_mode:\n",
    "            percentage += 1\n",
    "    print(f\"The mode was correct {(percentage / r) * 100}% of the time.\")\n",
    "\n",
    "main()"
   ]
  },
  {
   "cell_type": "markdown",
   "metadata": {},
   "source": [
    "### Challenge 12\n",
    "\n",
    "Byte-at-a-time ECB decryption (Simple)"
   ]
  },
  {
   "cell_type": "code",
   "execution_count": 20,
   "metadata": {},
   "outputs": [
    {
     "name": "stdout",
     "output_type": "stream",
     "text": [
      "b\"Rollin' in my 5.0\\nWith my rag-top down so my hair can blow\\nThe girlies on standby waving just to say hi\\nDid you stop? No, I just drove by\\n\"\n"
     ]
    }
   ],
   "source": [
    "import os\n",
    "from base64 import b64decode\n",
    "\n",
    "rand_key = os.urandom(16)\n",
    "target_string = b64decode(\n",
    "    b'Um9sbGluJyBpbiBteSA1LjAKV2l0aCBteSByYWctdG9wIGRvd24gc28gbXkg' +\n",
    "    b'aGFpciBjYW4gYmxvdwpUaGUgZ2lybGllcyBvbiBzdGFuZGJ5IHdhdmluZyBq' +\n",
    "    b'dXN0IHRvIHNheSBoaQpEaWQgeW91IHN0b3A/IE5vLCBJIGp1c3QgZHJvdmUg' +\n",
    "    b'YnkK'\n",
    ")\n",
    "\n",
    "def encryption_oracle(plaintext):\n",
    "    plaintext = PKCS7_pad(plaintext + target_string, 16)\n",
    "    return AES_128_ECB_encrypt(plaintext, rand_key)\n",
    "\n",
    "def get_block_and_pad_size():\n",
    "    \"\"\"\n",
    "    Starts with encrypting no plaintext, so just the prefix and target string.\n",
    "    Then add one byte of input at a time until the padding causes the output\n",
    "    to jump up by one block size. The difference between the new output length\n",
    "    and the original output length is the block size, and the number of bytes\n",
    "    added to the input is the pad size.\n",
    "    \"\"\"\n",
    "    base_length = len(encryption_oracle(bytes()))\n",
    "    pad_size = 1\n",
    "    while True:\n",
    "        data = b'A' * pad_size\n",
    "        new_length = len(encryption_oracle(data))\n",
    "        potential_block_size = new_length - base_length\n",
    "        if potential_block_size:\n",
    "            return potential_block_size, pad_size\n",
    "        pad_size += 1\n",
    "\n",
    "def match_next_byte(input_string, output, start, end):\n",
    "    \"\"\"\n",
    "    We start out knowing all but one of the bytes in the output block. So we try\n",
    "    all 256 possibilities for the last byte, and return the one that creates\n",
    "    the same block when encrypted with the input we already know.\n",
    "    \"\"\"\n",
    "    for c in range(256):\n",
    "        guess_byte = chr(c).encode()\n",
    "        guess_input = input_string + guess_byte\n",
    "        guess_output = encryption_oracle(guess_input)[start:end]\n",
    "        if guess_output == output:\n",
    "            return guess_byte\n",
    "    raise Exception(\"No match found\")\n",
    "\n",
    "def get_target_string(block_size, pad_size):\n",
    "    \"\"\"\n",
    "    If we know the input for a whole block except the last byte, it's pretty easy\n",
    "    to figure out what that last byte is, since ECB is deterministic. So we input\n",
    "    enough bytes so that there is a block where the last byte of the block is the\n",
    "    first byte of target_string, and all the others are our input. Then we find\n",
    "    the first byte of target_string. Then we remove one byte from our input, so\n",
    "    that same block now has two bytes from target_string, but now we know what the\n",
    "    first byte is, so we can solve for the second byte of target_string. Repeat\n",
    "    until we have done that for the whole string.\n",
    "    \"\"\"\n",
    "    base_length = len(encryption_oracle(bytes()))\n",
    "    solved_string = b''\n",
    "    for i in range(base_length-1, pad_size-1, -1):\n",
    "        input_string = (b'A' * i)\n",
    "        \n",
    "        start = base_length - block_size\n",
    "        end = base_length\n",
    "        output = encryption_oracle(input_string)[start:end]\n",
    "        \n",
    "        solved_string += match_next_byte(input_string+solved_string, output, start, end)\n",
    "    return solved_string\n",
    "\n",
    "def main():\n",
    "    block_size, pad_size = get_block_and_pad_size()\n",
    "    assert detect_ECB_or_CBC(encryption_oracle(b'A' * 32), 32) == 'ECB'\n",
    "    solved_string = get_target_string(block_size, pad_size)\n",
    "    print(solved_string)\n",
    "\n",
    "main()"
   ]
  },
  {
   "cell_type": "markdown",
   "metadata": {},
   "source": [
    "### Challenge 13\n",
    "\n",
    "ECB cut-and-paste"
   ]
  },
  {
   "cell_type": "code",
   "execution_count": 21,
   "metadata": {},
   "outputs": [
    {
     "name": "stdout",
     "output_type": "stream",
     "text": [
      "The role of this profile is 'admin'\n"
     ]
    }
   ],
   "source": [
    "from uuid import uuid4\n",
    "import os\n",
    "\n",
    "rand_key = os.urandom(16)\n",
    "\n",
    "def kv_parsing(data_in):\n",
    "    data_out = {}\n",
    "    for item in data_in.split('&'):\n",
    "        item = item.split('=')\n",
    "        if item[0] == 'email':\n",
    "            item[1] = item[1].replace('%26', '&').replace('%3D', '=')\n",
    "        data_out[item[0]] = item[1]\n",
    "    return data_out\n",
    "\n",
    "def profile_for(email):\n",
    "    email = email.replace('&', '%26').replace('=', '%3D')\n",
    "    profile = f'email={email}&uid={uuid4()}&role=user'\n",
    "    return encrypt_profile(profile)\n",
    "\n",
    "def encrypt_profile(profile):\n",
    "    plaintext = PKCS7_pad(profile.encode(), 16)\n",
    "    return AES_128_ECB_encrypt(plaintext, rand_key)\n",
    "\n",
    "def decrypt_profile(ciphertext):\n",
    "    plaintext = PKCS7_unpad(AES_128_ECB_decrypt(ciphertext, rand_key))\n",
    "    return kv_parsing(plaintext.decode())\n",
    "\n",
    "def main():\n",
    "    \"\"\"\n",
    "    The email address is a specific length so that the term 'user',\n",
    "    along with the padding, is all that appears in the last block of the\n",
    "    encrypted profile. Then I replace that last block with the block you would\n",
    "    get from encrypting the term 'admin'. Boom! Admin privlages!\n",
    "    \"\"\"\n",
    "    email_domain = \"@gmail.com\"\n",
    "    initial_bytes = len(f'email={email_domain}&uid={uuid4()}&role=')\n",
    "    email_length = 16 - (initial_bytes % 16)\n",
    "    email = 'A' * email_length + email_domain\n",
    "    \n",
    "    profile = profile_for(email)[:-16]\n",
    "    profile += AES_128_ECB_encrypt(PKCS7_pad(b'admin', 16), rand_key)\n",
    "    profile = decrypt_profile(profile)\n",
    "    print(\"The role of this profile is '{}'\".format(profile['role']))\n",
    "\n",
    "    # Funny enough, even without the escaped characters, this attack doesn't work.\n",
    "    # It does set the role to admin, but this is immediately overwritten when it\n",
    "    # parses the role=user part of the profile string. Because this comes after\n",
    "    # the user input, the attacker has no way to change this. They can, however,\n",
    "    # create new fields or alter existing ones that do not get changed later on.\n",
    "#     profile = profile_for('malicious&role=admin')\n",
    "#     print()\n",
    "#     profile = decrypt_profile(profile)\n",
    "#     print(\"The role of this profile is '{}'\".format(profile['role']))\n",
    "\n",
    "main()"
   ]
  },
  {
   "cell_type": "markdown",
   "metadata": {},
   "source": [
    "### Challenge 14\n",
    "\n",
    "Byte-at-a-time ECB decryption (Harder)"
   ]
  },
  {
   "cell_type": "code",
   "execution_count": 25,
   "metadata": {},
   "outputs": [
    {
     "name": "stdout",
     "output_type": "stream",
     "text": [
      "b\"Rollin' in my 5.0\\nWith my rag-top down so my hair can blow\\nThe girlies on standby waving just to say hi\\nDid you stop? No, I just drove by\\n\"\n"
     ]
    }
   ],
   "source": [
    "import os\n",
    "from random import randint\n",
    "from base64 import b64decode\n",
    "\n",
    "rand_key = os.urandom(16)\n",
    "rand_prefix = os.urandom(randint(0, 256))\n",
    "target_string = b64decode(\n",
    "    b'Um9sbGluJyBpbiBteSA1LjAKV2l0aCBteSByYWctdG9wIGRvd24gc28gbXkg' +\n",
    "    b'aGFpciBjYW4gYmxvdwpUaGUgZ2lybGllcyBvbiBzdGFuZGJ5IHdhdmluZyBq' +\n",
    "    b'dXN0IHRvIHNheSBoaQpEaWQgeW91IHN0b3A/IE5vLCBJIGp1c3QgZHJvdmUg' +\n",
    "    b'YnkK'\n",
    ")\n",
    "\n",
    "def encryption_oracle(plaintext):\n",
    "    plaintext = PKCS7_pad(rand_prefix + plaintext + target_string, 16)\n",
    "    return AES_128_ECB_encrypt(plaintext, rand_key)\n",
    "\n",
    "def get_block_and_pad_size():\n",
    "    \"\"\"\n",
    "    Starts with encrypting no plaintext, so just the prefix and target string.\n",
    "    Then add one byte of input at a time until the padding causes the output\n",
    "    to jump up by one block size. The difference between the new output length\n",
    "    and the original output length is the block size, and the number of bytes\n",
    "    added to the input is the pad size.\n",
    "    \"\"\"\n",
    "    base_length = len(encryption_oracle(bytes()))\n",
    "    pad_size = 1\n",
    "    while True:\n",
    "        data = b'A' * pad_size\n",
    "        new_length = len(encryption_oracle(data))\n",
    "        potential_block_size = new_length - base_length\n",
    "        if potential_block_size:\n",
    "            return potential_block_size, pad_size\n",
    "        pad_size += 1\n",
    "\n",
    "def get_input_start(block_size):\n",
    "    \"\"\"\n",
    "    Input the bytes 0-30 (one less than two full blocks) to the encryption_oracle.\n",
    "    This guarantees that there will be exactly one full block in the output that\n",
    "    is just a part of that sequence. By finding where that block is, and where in\n",
    "    the sequence it started, we know where the prefix ends.\n",
    "    \"\"\"\n",
    "    input_string = bytes([i for i in range((2 * block_size) - 1)])\n",
    "    output = encryption_oracle(input_string)\n",
    "    \n",
    "    known_blocks = []\n",
    "    for i in range(16):\n",
    "        input_block = input_string[i:i+block_size]\n",
    "        known_blocks.append(AES_128_ECB_encrypt(input_block, rand_key))\n",
    "    \n",
    "    for i in range(0, len(output), block_size):\n",
    "        current_block = output[i:i+block_size]\n",
    "        for known_block in known_blocks:\n",
    "            if current_block == known_block:\n",
    "                return i - known_blocks.index(known_block)\n",
    "\n",
    "def match_next_byte(input_string, output, start, end):\n",
    "    \"\"\"\n",
    "    We start out knowing all but one of the bytes in the output block. So we try\n",
    "    all 256 possibilities for the last byte, and return the one that creates\n",
    "    the same block when encrypted with the input we already know.\n",
    "    \"\"\"\n",
    "    for c in range(256):\n",
    "        guess_byte = chr(c).encode()\n",
    "        guess_input = input_string + guess_byte\n",
    "        guess_output = encryption_oracle(guess_input)[start:end]\n",
    "        if guess_output == output:\n",
    "            return guess_byte\n",
    "    raise Exception(\"No match found\")\n",
    "\n",
    "def get_target_string(block_size, pad_size, input_start, target_len):\n",
    "    \"\"\"\n",
    "    If we know the input for a whole block except the last byte, it's pretty easy\n",
    "    to figure out what that last byte is, since ECB is deterministic. So we input\n",
    "    enough bytes so that there is a block where the last byte of the block is the\n",
    "    first byte of target_string, and all the others are our input. Then we find\n",
    "    the first byte of target_string. Then we remove one byte from our input, so\n",
    "    that same block now has two bytes from target_string, but now we know what the\n",
    "    first byte is, so we can solve for the second byte of target_string. Repeat\n",
    "    until we have done that for the whole string.\n",
    "    \"\"\"\n",
    "    base_length = target_len + pad_size\n",
    "    solved_string = b''\n",
    "    for i in range(base_length-1, pad_size-1, -1):\n",
    "        input_string = (b'A' * i)\n",
    "        \n",
    "        start = input_start + base_length - block_size\n",
    "        end = start + block_size\n",
    "        output = encryption_oracle(input_string)[start:end]\n",
    "        \n",
    "        solved_string += match_next_byte(input_string+solved_string, output, start, end)\n",
    "    return solved_string\n",
    "\n",
    "def main():\n",
    "    block_size, pad_size = get_block_and_pad_size()\n",
    "    input_start = get_input_start(block_size)\n",
    "    target_len = len(encryption_oracle(bytes())) - pad_size - input_start\n",
    "    solved_string = get_target_string(block_size, pad_size, input_start, target_len)\n",
    "    print(solved_string)\n",
    "\n",
    "main()"
   ]
  },
  {
   "cell_type": "markdown",
   "metadata": {},
   "source": [
    "### Challenge 15\n",
    "\n",
    "PKCS#7 padding validation"
   ]
  },
  {
   "cell_type": "code",
   "execution_count": 71,
   "metadata": {},
   "outputs": [
    {
     "name": "stdout",
     "output_type": "stream",
     "text": [
      "b'YELLOW SUBMARINE' -> b'YELLOW SUBMARINE\\x04\\x04\\x04\\x04' -> b'YELLOW SUBMARINE'\n"
     ]
    }
   ],
   "source": [
    "class PKCS7PaddingException(Exception):\n",
    "    \"\"\"Handles invalid padding in the unpad method\"\"\"\n",
    "    pass\n",
    "\n",
    "\n",
    "def PKCS7_pad(plaintext, block_size):\n",
    "    pad_size = block_size - (len(plaintext) % block_size)\n",
    "    assert 0 < pad_size < 256\n",
    "    padding = b''.join([bytes([pad_size] * pad_size)])\n",
    "    return plaintext + padding\n",
    "\n",
    "def PKCS7_validate(padded_data, pad_size):\n",
    "    \"\"\"\n",
    "    Raises an exception if:\n",
    "        - pad_size is longer than padded_data\n",
    "        - padding slice is not uniform\n",
    "    \"\"\"\n",
    "    if pad_size > len(padded_data):\n",
    "        raise PKCS7PaddingException('pad_size larger than the length of the data')\n",
    "    padding = padded_data[-pad_size:]\n",
    "    for byte in padding:\n",
    "        if byte != pad_size:\n",
    "            raise PKCS7PaddingException('padding not uniform')\n",
    "    return True\n",
    "\n",
    "def PKCS7_unpad(padded_data):\n",
    "    pad_size = padded_data[-1]\n",
    "    PKCS7_validate(padded_data, pad_size)  # raise exception if padding is invalid\n",
    "    unpadded_data = padded_data[:-pad_size]\n",
    "    return unpadded_data\n",
    "\n",
    "def main():\n",
    "    data = b'YELLOW SUBMARINE'\n",
    "    padded_data = PKCS7_pad(data, 20)\n",
    "#     padded_data = bytes(15) + bytes([10])\n",
    "    unpadded_data = PKCS7_unpad(padded_data)\n",
    "    print(f'{data} -> {padded_data} -> {unpadded_data}')\n",
    "\n",
    "main()"
   ]
  },
  {
   "cell_type": "markdown",
   "metadata": {},
   "source": [
    "### Challenge 16\n",
    "\n",
    "CBC bitflipping attacks"
   ]
  },
  {
   "cell_type": "code",
   "execution_count": 27,
   "metadata": {},
   "outputs": [
    {
     "name": "stdout",
     "output_type": "stream",
     "text": [
      "admin=True\n"
     ]
    }
   ],
   "source": [
    "import os\n",
    "\n",
    "rand_key = os.urandom(16)\n",
    "iv = os.urandom(16)\n",
    "\n",
    "def encryption_oracle(plaintext):\n",
    "    plaintext = plaintext.replace(b';', b'%3B').replace(b'=', b'%3D')\n",
    "    prefix = b\"comment1=cooking%20MCs;userdata=\"\n",
    "    suffix = b\";comment2=%20like%20a%20pound%20of%20bacon\"\n",
    "    input_string = PKCS7_pad(prefix + plaintext + suffix, 16)\n",
    "    return AES_128_CBC_encrypt(input_string, rand_key, iv)\n",
    "\n",
    "def is_admin(ciphertext):\n",
    "    plaintext = PKCS7_unpad(AES_128_CBC_decrypt(ciphertext, rand_key, iv))\n",
    "    if b';admin=true;' in plaintext:\n",
    "        return True\n",
    "    else:\n",
    "        return False\n",
    "\n",
    "def main():\n",
    "    ciphertext = encryption_oracle(os.urandom(16) + b'AadminAtrueA')  # 0, 6, 11\n",
    "    ciphertext = bytearray(ciphertext)\n",
    "    \n",
    "    for i in [0, 6, 11]:\n",
    "        if i == 0 or i == 11:\n",
    "            to_byte = ord(';')\n",
    "        else:\n",
    "            to_byte = ord('=')\n",
    "            \n",
    "        ciphertext[32+i] = ciphertext[32+i] ^ ord('A') ^ to_byte\n",
    "        \n",
    "    ciphertext = bytes(ciphertext)\n",
    "    \n",
    "    print(f'admin={is_admin(ciphertext)}')\n",
    "\n",
    "main()"
   ]
  },
  {
   "cell_type": "markdown",
   "metadata": {},
   "source": [
    "---\n",
    "# Set 3\n",
    "\n",
    "##### Block & Stream Crypto\n",
    "---"
   ]
  },
  {
   "cell_type": "markdown",
   "metadata": {},
   "source": [
    "### Challenge 17\n",
    "\n",
    "The CBC padding oracle"
   ]
  },
  {
   "cell_type": "code",
   "execution_count": 117,
   "metadata": {},
   "outputs": [
    {
     "name": "stdout",
     "output_type": "stream",
     "text": [
      "Message Decrypted!\n"
     ]
    }
   ],
   "source": [
    "import os\n",
    "from random import choice, randint\n",
    "\n",
    "input_strings = [\n",
    "    b'MDAwMDAwTm93IHRoYXQgdGhlIHBhcnR5IGlzIGp1bXBpbmc=',\n",
    "    b'MDAwMDAxV2l0aCB0aGUgYmFzcyBraWNrZWQgaW4gYW5kIHRoZSBWZWdhJ3MgYXJlIHB1bXBpbic=',\n",
    "    b'MDAwMDAyUXVpY2sgdG8gdGhlIHBvaW50LCB0byB0aGUgcG9pbnQsIG5vIGZha2luZw==',\n",
    "    b'MDAwMDAzQ29va2luZyBNQydzIGxpa2UgYSBwb3VuZCBvZiBiYWNvbg==',\n",
    "    b'MDAwMDA0QnVybmluZyAnZW0sIGlmIHlvdSBhaW4ndCBxdWljayBhbmQgbmltYmxl',\n",
    "    b'MDAwMDA1SSBnbyBjcmF6eSB3aGVuIEkgaGVhciBhIGN5bWJhbA==',\n",
    "    b'MDAwMDA2QW5kIGEgaGlnaCBoYXQgd2l0aCBhIHNvdXBlZCB1cCB0ZW1wbw==',\n",
    "    b'MDAwMDA3SSdtIG9uIGEgcm9sbCwgaXQncyB0aW1lIHRvIGdvIHNvbG8=',\n",
    "    b'MDAwMDA4b2xsaW4nIGluIG15IGZpdmUgcG9pbnQgb2g=',\n",
    "    b'MDAwMDA5aXRoIG15IHJhZy10b3AgZG93biBzbyBteSBoYWlyIGNhbiBibG93'\n",
    "]\n",
    "\n",
    "rand_key = os.urandom(16)\n",
    "\n",
    "def encryption_oracle(plaintext):\n",
    "#     plaintext = PKCS7_pad(choice(input_strings), 16)\n",
    "    plaintext = PKCS7_pad(plaintext, 16)\n",
    "    iv = os.urandom(16)\n",
    "    return AES_128_CBC_encrypt(plaintext, rand_key, iv), iv\n",
    "\n",
    "def padding_oracle(ciphertext, iv):\n",
    "    plaintext = AES_128_CBC_decrypt(ciphertext, rand_key, iv)\n",
    "    try:\n",
    "        PKCS7_unpad(plaintext)\n",
    "    except PKCS7PaddingException:\n",
    "        return False\n",
    "    else:\n",
    "        return True\n",
    "\n",
    "def decrypt_block(block, iv):\n",
    "    \"\"\"\n",
    "    Modify iv to recover the plaintext corresponding to block\n",
    "    \"\"\"\n",
    "    iv_const = iv  # original version of iv\n",
    "    iv = bytearray(iv)  # so we can edit particular elements\n",
    "    \n",
    "    plaintext = b''\n",
    "    start_guess = 0  # in case we need to redo a step\n",
    "    \n",
    "    while len(plaintext) < 16:\n",
    "        pad_size = len(plaintext) + 1\n",
    "        \n",
    "        # Add the padding for the bytes we already know\n",
    "        for i in range(1, pad_size):\n",
    "            iv[-i] = iv_const[-i] ^ plaintext[-i] ^ pad_size\n",
    "        \n",
    "        for guess in range(start_guess, 256):\n",
    "            # Make a guess at the next byte\n",
    "            iv[-pad_size] = iv_const[-pad_size] ^ guess ^ pad_size\n",
    "            \n",
    "            # If the padding is valid, then we probably know the next byte\n",
    "            if padding_oracle(block, iv):\n",
    "                plaintext = bytes([guess]) + plaintext\n",
    "                start_guess = 0\n",
    "                break\n",
    "                \n",
    "        # If no match is found, then the last byte recovered was wrong\n",
    "        else:\n",
    "            start_guess = plaintext[0] + 1  # start where we left off last time\n",
    "            plaintext = plaintext[1:]  # remove the last byte recovered\n",
    "    \n",
    "    return plaintext\n",
    "\n",
    "def decrypt_message(ciphertext, iv):\n",
    "    plaintext = b''\n",
    "    blocks = [iv]\n",
    "    blocks.extend([ciphertext[i:i+16] for i in range(0, len(ciphertext), 16)])\n",
    "    \n",
    "    for i in range(1, len(blocks)):\n",
    "        plaintext += decrypt_block(blocks[i], blocks[i-1])\n",
    "    \n",
    "    return PKCS7_unpad(plaintext)\n",
    "\n",
    "def main():\n",
    "#     failures = 0\n",
    "#     for _ in range(100):\n",
    "#         message = os.urandom(randint(0, 256))\n",
    "#         ciphertext, iv = encryption_oracle(message)\n",
    "#         plaintext = decrypt_message(ciphertext, iv)\n",
    "#         if plaintext != message:\n",
    "#             failures += 1\n",
    "#             print(\"Uh oh, something didn't work...\\n\")\n",
    "#             print(message)\n",
    "#             print()\n",
    "#             print(plaintext)\n",
    "#             print('\\n' + '-' * 30 + '\\n')\n",
    "#     if failures == 0:\n",
    "#         print(\"All messages successfully decrypted!\")\n",
    "        \n",
    "    ciphertext, iv = encryption_oracle(choice(input_strings))\n",
    "    plaintext = decrypt_message(ciphertext, iv)\n",
    "    \n",
    "    if plaintext in input_strings:\n",
    "        print(\"Message Decrypted!\")\n",
    "    else:\n",
    "        print(\"Uh oh, something didn't work...\")\n",
    "\n",
    "main()"
   ]
  },
  {
   "cell_type": "markdown",
   "metadata": {},
   "source": [
    "### Challenge 18\n",
    "\n",
    "Implement CTR, the stream cipher mode"
   ]
  },
  {
   "cell_type": "code",
   "execution_count": 107,
   "metadata": {},
   "outputs": [
    {
     "name": "stdout",
     "output_type": "stream",
     "text": [
      "b\"Yo, VIP Let's kick it Ice, Ice, baby Ice, Ice, baby \"\n"
     ]
    }
   ],
   "source": [
    "from struct import pack\n",
    "from random import randint\n",
    "from base64 import b64decode\n",
    "\n",
    "def get_keystream_block(key, nonce, counter):\n",
    "    block = pack('<Q', nonce) + pack('<Q', counter)\n",
    "    return AES_128_ECB_encrypt(block, key)\n",
    "\n",
    "def keystream_generator(key, nonce, counter):\n",
    "    while True:\n",
    "        keystream_block = get_keystream_block(key, nonce, counter)\n",
    "        for byte in keystream_block:\n",
    "            yield byte\n",
    "        counter += 1\n",
    "\n",
    "def AES_128_CTR(message, key, nonce=0, counter=0):\n",
    "    \"\"\"Both the excryption and decryption method\"\"\"\n",
    "    output = b''\n",
    "    keystream = keystream_generator(key, nonce, counter)\n",
    "    for byte in message:\n",
    "        output += bytes([byte ^ next(keystream)])\n",
    "    return output\n",
    "\n",
    "def main():\n",
    "    ciphertext = b64decode(b'L77na/nrFsKvynd6HzOoG7GHTLXsTVu9qvY/2syLXzhPweyyMTJULu/6/kXX0KSvoOLSFQ==')\n",
    "    plaintext = AES_128_CTR(ciphertext, b'YELLOW SUBMARINE')\n",
    "    print(plaintext)\n",
    "\n",
    "main()"
   ]
  },
  {
   "cell_type": "markdown",
   "metadata": {},
   "source": [
    "### Challenge 19\n",
    "\n",
    "Break fixed-nonce CTR mode using substitutions\n",
    "\n",
    "(apparently I solved this pretty much the way I was supposed to solve challenge 20, but whatever)"
   ]
  },
  {
   "cell_type": "code",
   "execution_count": 255,
   "metadata": {},
   "outputs": [
    {
     "name": "stdout",
     "output_type": "stream",
     "text": [
      "I have met them at close of day\n",
      "Coming with vivid faces\n",
      "From counter or desk among grey\n",
      "Eighteenth-century houses.\n",
      "I have passed with a nod of the\u0001ht E\n",
      "Or polite meaningless words,\n",
      "Or have lingered awhile and saiE\n",
      "Polite meaningless words,\n",
      "And thought before I had done\n",
      "Of a mocking tale or a gibe\n",
      "To please a companion\n",
      "Around the fire at the club,\n",
      "Being certain that they and I\n",
      "But lived where motley is worn:\n",
      "All changed, changed utterly:\n",
      "A terrible beauty is born.\n",
      "That woman's days were spent\n",
      "In ignorant good will,\n",
      "Her nights in argument\n",
      "Until her voice grew shrill.\n",
      "What voice more sweet than hers\n",
      "When young and beautiful,\n",
      "She rode to harriers?\n",
      "This man had kept a school\n",
      "And rode our winged horse.\n",
      "This other his helper and frienE\n",
      "Was coming into his force;\n",
      "He might have won fame in the eOd=\n",
      "So sensitive his nature seemed,\n",
      "So daring and sweet his thought\u000f\n",
      "This other man I had dreamed\n",
      "A drunken, vain-glorious lout.\n",
      "He had done most bitter wrong\n",
      "To some who are near my heart,\n",
      "Yet I number him in the song;\n",
      "He, too, has resigned his part\n",
      "In the casual comedy;\n",
      "He, too, has been changed in hiR e4S  \n",
      "Transformed utterly:\n",
      "A terrible beauty is born.\n"
     ]
    }
   ],
   "source": [
    "import os\n",
    "from base64 import b64decode\n",
    "\n",
    "input_strings = [\n",
    "    b'SSBoYXZlIG1ldCB0aGVtIGF0IGNsb3NlIG9mIGRheQ==',\n",
    "    b'Q29taW5nIHdpdGggdml2aWQgZmFjZXM=',\n",
    "    b'RnJvbSBjb3VudGVyIG9yIGRlc2sgYW1vbmcgZ3JleQ==',\n",
    "    b'RWlnaHRlZW50aC1jZW50dXJ5IGhvdXNlcy4=',\n",
    "    b'SSBoYXZlIHBhc3NlZCB3aXRoIGEgbm9kIG9mIHRoZSBoZWFk',\n",
    "    b'T3IgcG9saXRlIG1lYW5pbmdsZXNzIHdvcmRzLA==',\n",
    "    b'T3IgaGF2ZSBsaW5nZXJlZCBhd2hpbGUgYW5kIHNhaWQ=',\n",
    "    b'UG9saXRlIG1lYW5pbmdsZXNzIHdvcmRzLA==',\n",
    "    b'QW5kIHRob3VnaHQgYmVmb3JlIEkgaGFkIGRvbmU=',\n",
    "    b'T2YgYSBtb2NraW5nIHRhbGUgb3IgYSBnaWJl',\n",
    "    b'VG8gcGxlYXNlIGEgY29tcGFuaW9u',\n",
    "    b'QXJvdW5kIHRoZSBmaXJlIGF0IHRoZSBjbHViLA==',\n",
    "    b'QmVpbmcgY2VydGFpbiB0aGF0IHRoZXkgYW5kIEk=',\n",
    "    b'QnV0IGxpdmVkIHdoZXJlIG1vdGxleSBpcyB3b3JuOg==',\n",
    "    b'QWxsIGNoYW5nZWQsIGNoYW5nZWQgdXR0ZXJseTo=',\n",
    "    b'QSB0ZXJyaWJsZSBiZWF1dHkgaXMgYm9ybi4=',\n",
    "    b'VGhhdCB3b21hbidzIGRheXMgd2VyZSBzcGVudA==',\n",
    "    b'SW4gaWdub3JhbnQgZ29vZCB3aWxsLA==',\n",
    "    b'SGVyIG5pZ2h0cyBpbiBhcmd1bWVudA==',\n",
    "    b'VW50aWwgaGVyIHZvaWNlIGdyZXcgc2hyaWxsLg==',\n",
    "    b'V2hhdCB2b2ljZSBtb3JlIHN3ZWV0IHRoYW4gaGVycw==',\n",
    "    b'V2hlbiB5b3VuZyBhbmQgYmVhdXRpZnVsLA==',\n",
    "    b'U2hlIHJvZGUgdG8gaGFycmllcnM/',\n",
    "    b'VGhpcyBtYW4gaGFkIGtlcHQgYSBzY2hvb2w=',\n",
    "    b'QW5kIHJvZGUgb3VyIHdpbmdlZCBob3JzZS4=',\n",
    "    b'VGhpcyBvdGhlciBoaXMgaGVscGVyIGFuZCBmcmllbmQ=',\n",
    "    b'V2FzIGNvbWluZyBpbnRvIGhpcyBmb3JjZTs=',\n",
    "    b'SGUgbWlnaHQgaGF2ZSB3b24gZmFtZSBpbiB0aGUgZW5kLA==',\n",
    "    b'U28gc2Vuc2l0aXZlIGhpcyBuYXR1cmUgc2VlbWVkLA==',\n",
    "    b'U28gZGFyaW5nIGFuZCBzd2VldCBoaXMgdGhvdWdodC4=',\n",
    "    b'VGhpcyBvdGhlciBtYW4gSSBoYWQgZHJlYW1lZA==',\n",
    "    b'QSBkcnVua2VuLCB2YWluLWdsb3Jpb3VzIGxvdXQu',\n",
    "    b'SGUgaGFkIGRvbmUgbW9zdCBiaXR0ZXIgd3Jvbmc=',\n",
    "    b'VG8gc29tZSB3aG8gYXJlIG5lYXIgbXkgaGVhcnQs',\n",
    "    b'WWV0IEkgbnVtYmVyIGhpbSBpbiB0aGUgc29uZzs=',\n",
    "    b'SGUsIHRvbywgaGFzIHJlc2lnbmVkIGhpcyBwYXJ0',\n",
    "    b'SW4gdGhlIGNhc3VhbCBjb21lZHk7',\n",
    "    b'SGUsIHRvbywgaGFzIGJlZW4gY2hhbmdlZCBpbiBoaXMgdHVybiw=',\n",
    "    b'VHJhbnNmb3JtZWQgdXR0ZXJseTo=',\n",
    "    b'QSB0ZXJyaWJsZSBiZWF1dHkgaXMgYm9ybi4='\n",
    "]\n",
    "\n",
    "def get_score(byte):\n",
    "    letter_frequencies = {\n",
    "        'a': .08167, 'b': .01492, 'c': .02782, 'd': .04253,\n",
    "        'e': .12702, 'f': .02228, 'g': .02015, 'h': .06094,\n",
    "        'i': .06094, 'j': .00153, 'k': .00772, 'l': .04025,\n",
    "        'm': .02406, 'n': .06749, 'o': .07507, 'p': .01929,\n",
    "        'q': .00095, 'r': .05987, 's': .06327, 't': .09056,\n",
    "        'u': .02758, 'v': .00978, 'w': .02360, 'x': .00150,\n",
    "        'y': .01974, 'z': .00074, ' ': .13000\n",
    "    }\n",
    "    return letter_frequencies.get(chr(byte).lower(), 0)\n",
    "\n",
    "def get_keystream_byte(data):\n",
    "    scores = []\n",
    "    for guess in range(256):\n",
    "        score = 0\n",
    "        for byte in data:\n",
    "            score += get_score(byte ^ guess)\n",
    "        \n",
    "        scores.append({'Byte': bytes([guess]), 'Score': score})\n",
    "    \n",
    "    best_guess = sorted(scores, key=lambda x: x['Score'], reverse=True)[0]['Byte']\n",
    "    return best_guess\n",
    "\n",
    "def main():\n",
    "    rand_key = os.urandom(16)\n",
    "    ciphertexts = []\n",
    "    for line in input_strings:\n",
    "        ciphertexts.append(AES_128_CTR(b64decode(line), rand_key))\n",
    "    \n",
    "    keystream = b''\n",
    "    for i in range(max(len(line) for line in ciphertexts)):\n",
    "        data = []\n",
    "        for j in range(len(ciphertexts)):\n",
    "            # Handles lines longer than the shortest line\n",
    "            try:\n",
    "                data.append(ciphertexts[j][i])\n",
    "            except IndexError:\n",
    "                pass\n",
    "        keystream += get_keystream_byte(data)\n",
    "    \n",
    "    plaintexts = []\n",
    "    for line in ciphertexts:\n",
    "        plaintexts.append(fixed_xor(line, keystream))\n",
    "    \n",
    "    # Because the ends of the longer lines have fewer data points to compare, they\n",
    "    # have a tendancy to be wrong. This could be fixed with a lot of effort\n",
    "    # matching bigrams, trigrams, etc..., but I don't want to. So deal with it\n",
    "    for line in plaintexts:\n",
    "        print(line.decode())\n",
    "    \n",
    "main()"
   ]
  },
  {
   "cell_type": "markdown",
   "metadata": {},
   "source": [
    "### Challenge 20\n",
    "\n",
    "Break fixed-nonce CTR statistically (just a rehash of how I solved challenge 19)"
   ]
  },
  {
   "cell_type": "code",
   "execution_count": 279,
   "metadata": {},
   "outputs": [
    {
     "name": "stdout",
     "output_type": "stream",
     "text": [
      "I'm rated \"R\"...this is a warning, ya better void / Poets are paranoid, DJ's D-stroyed\n",
      "Cuz I came back to attack others in spite- / Strike like lightnin', It's quite frightenin'!\n",
      "But don't be afraid in the dark, in a park / Not a scream or a cry, or a bark, more like a spark\u001b\n",
      "Ya tremble like a alcoholic, muscles tighten up / What's that, lighten up! You see a sight but\n",
      "Suddenly you feel like your in a horror flick / You grab your heart then wish for tomorrow quick\u0001\n",
      "Music's the clue, when I come your warned / Apocalypse Now, when I'm done, ya gone!\n",
      "Haven't you ever heard of a MC-murderer? / This is the death penalty,and I'm servin' a\n",
      "Death wish, so come on, step to this / Hysterical idea for a lyrical professionist!\n",
      "Friday the thirteenth, walking down Elm Street / You come in my realm ya get beat!\n",
      "This is off limits, so your visions are blurry / All ya see is the meters at a volume\n",
      "Terror in the styles, never error-files / Indeed I'm known-your exiled!\n",
      "For those that oppose to be level or next to this / I ain't a devil and this ain't the Exorcist!\n",
      "Worse than a nightmare, you don't have to sleep a wink / The pain's a migraine every time ya thiNk\n",
      "Flashbacks interfere, ya start to hear: / The R-A-K-I-M in your ear;\n",
      "Then the beat is hysterical / That makes Eric go get a ax and chops the wack\n",
      "Soon the lyrical format is superior / Faces of death remain\n",
      "MC's decaying, cuz they never stayed / The scene of a crime every night at the show\n",
      "The fiend of a rhyme on the mic that you know / It's only one capable, breaks-the unbreakable\n",
      "Melodies-unmakable, pattern-unescapable / A horn if want the style I posses\n",
      "I bless the child, the earth, the gods and bomb the rest / For those that envy a MC it can be\n",
      "Hazardous to your health so be friendly / A matter of life and death, just like a etch-a-sketch\n",
      "Shake 'till your clear, make it disappear, make the next / After the ceremony, let the rhyme resT in Eeact\n",
      "If not, my soul'll release! / The scene is recreated, reincarnated, updated, I'm glad you made iT\n",
      "Cuz your about to see a disastrous sight / A performance never again performed on a mic:\n",
      "Lyrics of fury! A fearified freestyle! / The \"R\" is in the house-too much tension!\n",
      "Make sure the system's loud when I mention / Phrases that's fearsome\n",
      "You want to hear some sounds that not only pounds but please your eardrums; / I sit back and obsErve Ahe f oe  >eneh  \n",
      "Then nonchalantly tell you what it mean to me / Strictly business I'm quickly in this mood\n",
      "And I don't care if the whole crowd's a witness! / I'm a tear you apart but I'm a spare you a heArt\n",
      "Program into the speed of the rhyme, prepare to start / Rhythm's out of the radius, insane as thE craOiese\n",
      "Musical madness MC ever made, see it's / Now an emergency, open-heart surgery\n",
      "Open your mind, you will find every word'll be / Furier than ever, I remain the furture\n",
      "Battle's tempting...whatever suits ya! / For words the sentence, there's no resemblance\n",
      "You think you're ruffer, then suffer the consequences! / I'm never dying-terrifying results\n",
      "I wake ya with hundreds of thousands of volts / Mic-to-mouth resuscitation, rhythm with radiatioN\n",
      "Novocain ease the pain it might save him / If not, Eric B.'s the judge, the crowd's the jury\n",
      "Yo Rakim, what's up? / Yo, I'm doing the knowledge, E., man I'm trying to get paid in full\n",
      "Well, check this out, since Norby Walters is our agency, right? / True\n",
      "Kara Lewis is our agent, word up / Zakia and 4th and Broadway is our record company, indeed\n",
      "Okay, so who we rollin' with then? We rollin' with Rush / Of Rushtown Management\n",
      "Check this out, since we talking over / This def beat right here that I put together\n",
      "I wanna hear some of them def rhymes, you know what I'm sayin'? / And together, we can get paid In fuYl\n",
      "Thinkin' of a master plan / 'Cuz ain't nuthin' but sweat inside my hand\n",
      "So I dig into my pocket, all my money is spent / So I dig deeper but still comin' up with lint\n",
      "So I start my mission, leave my residence / Thinkin' how could I get some dead presidents\n",
      "I need money, I used to be a stick-up kid / So I think of all the devious things I did\n",
      "I used to roll up, this is a hold up, ain't nuthin' funny / Stop smiling, be still, don't nuthin\u0007 movP buehta   ient\n",
      "But now I learned to earn 'cuz I'm righteous / I feel great, so maybe I might just\n",
      "Search for a nine to five, if I strive / Then maybe I'll stay alive\n",
      "So I walk up the street whistlin' this / Feelin' out of place 'cuz, man, do I miss\n",
      "A pen and a paper, a stereo, a tape of / Me and Eric B, and a nice big plate of\n",
      "Fish, which is my favorite dish / But without no money it's still a wish\n",
      "'Cuz I don't like to dream about gettin' paid / So I dig into the books of the rhymes that I madE\n",
      "So now to test to see if I got pull / Hit the studio, 'cuz I'm paid in full\n",
      "Rakim, check this out, yo / You go to your girl house and I'll go to mine\n",
      "'Cause my girl is definitely mad / 'Cause it took us too long to do this album\n",
      "Yo, I hear what you're saying / So let's just pump the music up\n",
      "And count our money / Yo, well check this out, yo Eli\n",
      "Turn down the bass down / And let the beat just keep on rockin'\n",
      "And we outta here / Yo, what happened to peace? / Peace\n"
     ]
    }
   ],
   "source": [
    "from urllib.request import urlopen\n",
    "from base64 import b64decode\n",
    "import os\n",
    "\n",
    "def get_score(byte):\n",
    "    letter_frequencies = {\n",
    "        'a': .08167, 'b': .01492, 'c': .02782, 'd': .04253,\n",
    "        'e': .12702, 'f': .02228, 'g': .02015, 'h': .06094,\n",
    "        'i': .06094, 'j': .00153, 'k': .00772, 'l': .04025,\n",
    "        'm': .02406, 'n': .06749, 'o': .07507, 'p': .01929,\n",
    "        'q': .00095, 'r': .05987, 's': .06327, 't': .09056,\n",
    "        'u': .02758, 'v': .00978, 'w': .02360, 'x': .00150,\n",
    "        'y': .01974, 'z': .00074, ' ': .13000\n",
    "    }\n",
    "    return letter_frequencies.get(chr(byte).lower(), 0)\n",
    "\n",
    "def get_keystream_byte(data, rank):\n",
    "    scores = []\n",
    "    for guess in range(256):\n",
    "        score = 0\n",
    "        for byte in data:\n",
    "            score += get_score(byte ^ guess)\n",
    "        \n",
    "        scores.append({'Byte': bytes([guess]), 'Score': score})\n",
    "    \n",
    "    best_guess = sorted(scores, key=lambda x: x['Score'], reverse=True)[rank]\n",
    "    return best_guess['Byte']\n",
    "\n",
    "def main():\n",
    "    rand_key = os.urandom(16)\n",
    "    ciphertexts = []\n",
    "    with urlopen(\"https://cryptopals.com/static/challenge-data/20.txt\") as data:\n",
    "        for line in data:\n",
    "            plaintext = b64decode(line.rstrip())\n",
    "            ciphertexts.append(AES_128_CTR(plaintext, rand_key))\n",
    "    \n",
    "    keystream = b''\n",
    "    for i in range(max(len(line) for line in ciphertexts)):\n",
    "        data = []\n",
    "        for j in range(len(ciphertexts)):\n",
    "            # Handles lines longer than the shortest line\n",
    "            try:\n",
    "                data.append(ciphertexts[j][i])\n",
    "            except IndexError:\n",
    "                pass\n",
    "        # The correct first keystream byte is actually the third or fourth best\n",
    "        # scoring byte (the other one gives the same letters, but lowercase), so\n",
    "        # this corrects for that. Not a code issue, just a random coincidence.\n",
    "        if i == 0:\n",
    "            rank = 2\n",
    "        else:\n",
    "            rank = 0\n",
    "        keystream += get_keystream_byte(data, rank)\n",
    "    \n",
    "    plaintexts = []\n",
    "    for line in ciphertexts:\n",
    "        plaintexts.append(fixed_xor(line, keystream))\n",
    "    \n",
    "    # Because the ends of the longer lines have fewer data points to compare, they\n",
    "    # have a tendancy to be wrong. This could be fixed with a lot of effort\n",
    "    # matching bigrams, trigrams, etc..., but I don't want to. So deal with it\n",
    "    for line in plaintexts:\n",
    "        print(line.decode())\n",
    "    \n",
    "#     print()\n",
    "    \n",
    "#     for line in ciphertexts:\n",
    "#         print(AES_128_CTR(line, rand_key))\n",
    "\n",
    "main()"
   ]
  },
  {
   "cell_type": "markdown",
   "metadata": {},
   "source": [
    "### Challenge 21\n",
    "\n",
    "Implement the MT19937 Mersenne Twister RNG"
   ]
  },
  {
   "cell_type": "code",
   "execution_count": null,
   "metadata": {},
   "outputs": [],
   "source": [
    "class MT19937:\n",
    "    def __init__(self):\n",
    "        "
   ]
  }
 ],
 "metadata": {
  "kernelspec": {
   "display_name": "Python 3",
   "language": "python",
   "name": "python3"
  },
  "language_info": {
   "codemirror_mode": {
    "name": "ipython",
    "version": 3
   },
   "file_extension": ".py",
   "mimetype": "text/x-python",
   "name": "python",
   "nbconvert_exporter": "python",
   "pygments_lexer": "ipython3",
   "version": "3.6.8"
  }
 },
 "nbformat": 4,
 "nbformat_minor": 2
}
