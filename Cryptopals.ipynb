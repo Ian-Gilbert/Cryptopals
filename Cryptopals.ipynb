{
 "cells": [
  {
   "cell_type": "markdown",
   "metadata": {},
   "source": [
    "---\n",
    "# Set 1\n",
    "\n",
    "##### Basics\n",
    "---"
   ]
  },
  {
   "cell_type": "markdown",
   "metadata": {},
   "source": [
    "### Challenge 1\n",
    "\n",
    "Convert hex to base64"
   ]
  },
  {
   "cell_type": "code",
   "execution_count": 1,
   "metadata": {},
   "outputs": [
    {
     "data": {
      "text/plain": [
       "'535364744947747062477870626d63676557393163694269636d4670626942736157746c4947456763473970633239756233567a494731316332687962323974'"
      ]
     },
     "execution_count": 1,
     "metadata": {},
     "output_type": "execute_result"
    }
   ],
   "source": [
    "from base64 import b64encode\n",
    "\n",
    "def hex_to_base64(hexstring):\n",
    "    byte_seq = bytes.fromhex(hexstring)\n",
    "    return b64encode(byte_seq)\n",
    "\n",
    "hex_to_base64('49276d206b696c6c696e6720796f757220627261696e206c696b65206120706f69736f6e6f7573206d757368726f6f6d').hex()"
   ]
  },
  {
   "cell_type": "markdown",
   "metadata": {},
   "source": [
    "### Challenge 2\n",
    "\n",
    "**Fixed XOR:**\n",
    "Write a function that takes two equal-length buffers and produces their XOR combination."
   ]
  },
  {
   "cell_type": "code",
   "execution_count": 2,
   "metadata": {},
   "outputs": [
    {
     "name": "stdout",
     "output_type": "stream",
     "text": [
      "b\"the kid don't play\"\n"
     ]
    }
   ],
   "source": [
    "def fixed_xor(byte_seq1, byte_seq2):\n",
    "    xor = b''\n",
    "    for i, j in zip(byte_seq1, byte_seq2):\n",
    "        xor += bytes([i ^ j])\n",
    "    return xor\n",
    "\n",
    "def main():\n",
    "    byte_seq1 = bytes.fromhex('1c0111001f010100061a024b53535009181c')\n",
    "    byte_seq2 = bytes.fromhex('686974207468652062756c6c277320657965')\n",
    "    print(fixed_xor(byte_seq1, byte_seq2))\n",
    "    \n",
    "main()"
   ]
  },
  {
   "cell_type": "markdown",
   "metadata": {},
   "source": [
    "### Challenge 3\n",
    "\n",
    "Single-byte XOR cipher"
   ]
  },
  {
   "cell_type": "code",
   "execution_count": 3,
   "metadata": {},
   "outputs": [
    {
     "data": {
      "text/plain": [
       "{'Message': b\"Cooking MC's like a pound of bacon\", 'Key': 88, 'Score': 2.14329}"
      ]
     },
     "execution_count": 3,
     "metadata": {},
     "output_type": "execute_result"
    }
   ],
   "source": [
    "def get_score(input_bytes):\n",
    "    letter_frequencies = {\n",
    "        'a': .08167, 'b': .01492, 'c': .02782, 'd': .04253,\n",
    "        'e': .12702, 'f': .02228, 'g': .02015, 'h': .06094,\n",
    "        'i': .06094, 'j': .00153, 'k': .00772, 'l': .04025,\n",
    "        'm': .02406, 'n': .06749, 'o': .07507, 'p': .01929,\n",
    "        'q': .00095, 'r': .05987, 's': .06327, 't': .09056,\n",
    "        'u': .02758, 'v': .00978, 'w': .02360, 'x': .00150,\n",
    "        'y': .01974, 'z': .00074, ' ': .13000\n",
    "    }\n",
    "    return sum([letter_frequencies.get(chr(byte), 0) for byte in input_bytes.lower()])\n",
    "\n",
    "def break_sbyte_xor(byte_seq):\n",
    "    potential_messages = []\n",
    "    \n",
    "    for key_value in range(256):  # each ascii character\n",
    "        message = b''\n",
    "        \n",
    "        for byte in byte_seq:\n",
    "            xor = bytes([key_value ^ byte])\n",
    "            message += xor\n",
    "        \n",
    "        data = {'Message': message, 'Key': key_value, 'Score': get_score(message)}\n",
    "        potential_messages.append(data)\n",
    "        \n",
    "    best_score = sorted(potential_messages, key=lambda x: x['Score'], reverse=True)[0]\n",
    "    return best_score\n",
    "\n",
    "break_sbyte_xor(bytes.fromhex('1b37373331363f78151b7f2b783431333d78397828372d363c78373e783a393b3736'))"
   ]
  },
  {
   "cell_type": "markdown",
   "metadata": {},
   "source": [
    "### Challenge 4\n",
    "\n",
    "Detect single-character XOR"
   ]
  },
  {
   "cell_type": "code",
   "execution_count": 4,
   "metadata": {},
   "outputs": [
    {
     "name": "stdout",
     "output_type": "stream",
     "text": [
      "{'Message': b'Now that the party is jumping\\n', 'Key': 53, 'Score': 2.03479}\n"
     ]
    }
   ],
   "source": [
    "from urllib.request import urlopen\n",
    "\n",
    "def detect_sbyte_xor(lines):\n",
    "    potential_plaintext = []\n",
    "    \n",
    "    for line in lines:\n",
    "        # Use break_sbyte_xor() method from Challenge 3\n",
    "        potential_plaintext.append(break_sbyte_xor(line))\n",
    "    \n",
    "    best_line = sorted(potential_plaintext, key=lambda x: x['Score'], reverse=True)[0]\n",
    "    return best_line\n",
    "\n",
    "def main():\n",
    "    lines = []\n",
    "    with urlopen('https://cryptopals.com/static/challenge-data/4.txt') as data:\n",
    "        for line in data:\n",
    "            lines.append(bytes.fromhex(line.rstrip().decode()))\n",
    "    print(detect_sbyte_xor(lines))\n",
    "\n",
    "main()"
   ]
  },
  {
   "cell_type": "markdown",
   "metadata": {},
   "source": [
    "### Challenge 5\n",
    "\n",
    "Implement repeating-key XOR (Vignere Cipher)"
   ]
  },
  {
   "cell_type": "code",
   "execution_count": 5,
   "metadata": {},
   "outputs": [
    {
     "data": {
      "text/plain": [
       "'0b3637272a2b2e63622c2e69692a23693a2a3c6324202d623d63343c2a26226324272765272a282b2f20690a652e2c652a3124333a653e2b2027630c692b20283165286326302e27282f'"
      ]
     },
     "execution_count": 5,
     "metadata": {},
     "output_type": "execute_result"
    }
   ],
   "source": [
    "def repeating_key_xor(message, key):\n",
    "    message = message\n",
    "    key = key\n",
    "    ciphertext = b''\n",
    "    \n",
    "    for i in range(len(message)):\n",
    "        m = message[i]  # current byte from message\n",
    "        k = key[i % len(key)]  # byte of key for XOR\n",
    "        \n",
    "        xor = bytes([m ^ k])\n",
    "        ciphertext += xor\n",
    "    \n",
    "    return ciphertext\n",
    "\n",
    "repeating_key_xor(b\"Burning 'em, if you ain't quick and nimble I go crazy when I hear a cymbal\", b\"ICE\").hex()"
   ]
  },
  {
   "cell_type": "markdown",
   "metadata": {},
   "source": [
    "### Challenge 6\n",
    "\n",
    "Break repeating-key XOR (Vigenere Cipher)"
   ]
  },
  {
   "cell_type": "code",
   "execution_count": 6,
   "metadata": {},
   "outputs": [
    {
     "name": "stdout",
     "output_type": "stream",
     "text": [
      "{'Message': b\"I'm back and I'm ringin' the bell \\nA rockin' on the mike while the fly girls yell \\nIn ecstasy in the back of me \\nWell that's my DJ Deshay cuttin' all them Z's \\nHittin' hard and the girlies goin' crazy \\nVanilla's on the mike, man I'm not lazy. \\n\\nI'm lettin' my drug kick in \\nIt controls my mouth and I begin \\nTo just let it flow, let my concepts go \\nMy posse's to the side yellin', Go Vanilla Go! \\n\\nSmooth 'cause that's the way I will be \\nAnd if you don't give a damn, then \\nWhy you starin' at me \\nSo get off 'cause I control the stage \\nThere's no dissin' allowed \\nI'm in my own phase \\nThe girlies sa y they love me and that is ok \\nAnd I can dance better than any kid n' play \\n\\nStage 2 -- Yea the one ya' wanna listen to \\nIt's off my head so let the beat play through \\nSo I can funk it up and make it sound good \\n1-2-3 Yo -- Knock on some wood \\nFor good luck, I like my rhymes atrocious \\nSupercalafragilisticexpialidocious \\nI'm an effect and that you can bet \\nI can take a fly girl and make her wet. \\n\\nI'm like Samson -- Samson to Delilah \\nThere's no denyin', You can try to hang \\nBut you'll keep tryin' to get my style \\nOver and over, practice makes perfect \\nBut not if you're a loafer. \\n\\nYou'll get nowhere, no place, no time, no girls \\nSoon -- Oh my God, homebody, you probably eat \\nSpaghetti with a spoon! Come on and say it! \\n\\nVIP. Vanilla Ice yep, yep, I'm comin' hard like a rhino \\nIntoxicating so you stagger like a wino \\nSo punks stop trying and girl stop cryin' \\nVanilla Ice is sellin' and you people are buyin' \\n'Cause why the freaks are jockin' like Crazy Glue \\nMovin' and groovin' trying to sing along \\nAll through the ghetto groovin' this here song \\nNow you're amazed by the VIP posse. \\n\\nSteppin' so hard like a German Nazi \\nStartled by the bases hittin' ground \\nThere's no trippin' on mine, I'm just gettin' down \\nSparkamatic, I'm hangin' tight like a fanatic \\nYou trapped me once and I thought that \\nYou might have it \\nSo step down and lend me your ear \\n'89 in my time! You, '90 is my year. \\n\\nYou're weakenin' fast, YO! and I can tell it \\nYour body's gettin' hot, so, so I can smell it \\nSo don't be mad and don't be sad \\n'Cause the lyrics belong to ICE, You can call me Dad \\nYou're pitchin' a fit, so step back and endure \\nLet the witch doctor, Ice, do the dance to cure \\nSo come up close and don't be square \\nYou wanna battle me -- Anytime, anywhere \\n\\nYou thought that I was weak, Boy, you're dead wrong \\nSo come on, everybody and sing this song \\n\\nSay -- Play that funky music Say, go white boy, go white boy go \\nplay that funky music Go white boy, go white boy, go \\nLay down and boogie and play that funky music till you die. \\n\\nPlay that funky music Come on, Come on, let me hear \\nPlay that funky music white boy you say it, say it \\nPlay that funky music A little louder now \\nPlay that funky music, white boy Come on, Come on, Come on \\nPlay that funky music \\n\", 'Key': b'Terminator X: Bring the noise'}\n"
     ]
    }
   ],
   "source": [
    "from urllib.request import urlopen\n",
    "import numpy as np\n",
    "from itertools import combinations\n",
    "from base64 import b64decode\n",
    "\n",
    "def hamming(block1, block2):\n",
    "    \"\"\"Returns the Hamming distance between two equal length byte strings\"\"\"\n",
    "    distance = 0\n",
    "    for byte1, byte2 in zip(block1, block2):\n",
    "        byte1 = bin(byte1)[2:].zfill(8).encode()\n",
    "        byte2 = bin(byte2)[2:].zfill(8).encode()\n",
    "        distance += sum([1 for bit1, bit2 in zip(byte1, byte2) if bit1 != bit2])\n",
    "    return distance\n",
    "\n",
    "def break_repeating_key_xor(ciphertext):\n",
    "    # Find the keysize, taking advantage of the fact that the Hamming distance between\n",
    "    # Engligh characters will, on average, be less than the distance between random bytes.\n",
    "    avg_norm_hd = []  # Averaged normilized Hamming distance\n",
    "    for keysize in range(2, 41):\n",
    "        blocks = [ciphertext[i:i+keysize] for i in range(0, len(ciphertext), keysize)]  # break message into keysize-sized blocks\n",
    "        norm_hd = []  # Normalized Hamming distance\n",
    "        \n",
    "        for block1, block2 in combinations(blocks, 2):  # compute the Hamming distance between each block\n",
    "            norm_hd.append(hamming(block1, block2) / keysize)\n",
    "        avg_norm_hd.append({'Keysize': keysize, 'Score': np.mean(norm_hd)})\n",
    "        \n",
    "    avg_norm_hd = sorted(avg_norm_hd, key=lambda x: x['Score'])[:3]  # Top three results for the keysize\n",
    "    \n",
    "    # For each of the top 3 keysizes, transpose the blocks (i.e. chunk ciphertext into blocks with multiples of keysize, then keysize + 1, etc...).\n",
    "    # Then solve each block with single byte xor, and combine the resulting keys to form the potential key for that keysize.\n",
    "    # The score for the final key will be the score for all the single byte keys added together. Rank the final keys, and decrypt using the best one.\n",
    "    possible_key_list = []\n",
    "    for item in avg_norm_hd:\n",
    "        keysize = item['Keysize']\n",
    "        possible_key = b''\n",
    "        key_score = 0\n",
    "        \n",
    "        # Transpose the blocks\n",
    "        for i in range(keysize):\n",
    "            block = b''\n",
    "            for j in range(i, len(ciphertext), keysize):\n",
    "                block += bytes([ciphertext[j]])\n",
    "            \n",
    "            key_info = break_sbyte_xor(block)  # Use break_sbyte_xor() method from Challenge 3\n",
    "            possible_key += chr(key_info['Key']).encode()  # add single byte key to potential key\n",
    "            key_score += key_info['Score']  # add score for single byte key to the score for the potential key\n",
    "        \n",
    "        possible_key_list.append({'Key': possible_key, 'Score': key_score})\n",
    "    \n",
    "    # Sort potential keys, and decrypt using the best one\n",
    "    best_key = sorted(possible_key_list, key=lambda x: x['Score'], reverse=True)[0]['Key']\n",
    "    message = repeating_key_xor(ciphertext, best_key)  # Use repeating_key_xor() method from Challenge 5\n",
    "    return {'Message': message, 'Key': best_key}\n",
    "\n",
    "def main():\n",
    "    # Load message, removing new line characters along the way\n",
    "    ciphertext = b''\n",
    "    with urlopen('https://cryptopals.com/static/challenge-data/6.txt') as data:\n",
    "        for line in data:\n",
    "            ciphertext += b64decode(line.rstrip())\n",
    "    print(break_repeating_key_xor(ciphertext))\n",
    "\n",
    "main()"
   ]
  },
  {
   "cell_type": "markdown",
   "metadata": {},
   "source": [
    "### Challenge 7\n",
    "\n",
    "AES in ECB mode"
   ]
  },
  {
   "cell_type": "code",
   "execution_count": 7,
   "metadata": {},
   "outputs": [
    {
     "name": "stdout",
     "output_type": "stream",
     "text": [
      "b\"I'm back and I'm ringin' the bell \\nA rockin' on the mike while the fly girls yell \\nIn ecstasy in the back of me \\nWell that's my DJ Deshay cuttin' all them Z's \\nHittin' hard and the girlies goin' crazy \\nVanilla's on the mike, man I'm not lazy. \\n\\nI'm lettin' my drug kick in \\nIt controls my mouth and I begin \\nTo just let it flow, let my concepts go \\nMy posse's to the side yellin', Go Vanilla Go! \\n\\nSmooth 'cause that's the way I will be \\nAnd if you don't give a damn, then \\nWhy you starin' at me \\nSo get off 'cause I control the stage \\nThere's no dissin' allowed \\nI'm in my own phase \\nThe girlies sa y they love me and that is ok \\nAnd I can dance better than any kid n' play \\n\\nStage 2 -- Yea the one ya' wanna listen to \\nIt's off my head so let the beat play through \\nSo I can funk it up and make it sound good \\n1-2-3 Yo -- Knock on some wood \\nFor good luck, I like my rhymes atrocious \\nSupercalafragilisticexpialidocious \\nI'm an effect and that you can bet \\nI can take a fly girl and make her wet. \\n\\nI'm like Samson -- Samson to Delilah \\nThere's no denyin', You can try to hang \\nBut you'll keep tryin' to get my style \\nOver and over, practice makes perfect \\nBut not if you're a loafer. \\n\\nYou'll get nowhere, no place, no time, no girls \\nSoon -- Oh my God, homebody, you probably eat \\nSpaghetti with a spoon! Come on and say it! \\n\\nVIP. Vanilla Ice yep, yep, I'm comin' hard like a rhino \\nIntoxicating so you stagger like a wino \\nSo punks stop trying and girl stop cryin' \\nVanilla Ice is sellin' and you people are buyin' \\n'Cause why the freaks are jockin' like Crazy Glue \\nMovin' and groovin' trying to sing along \\nAll through the ghetto groovin' this here song \\nNow you're amazed by the VIP posse. \\n\\nSteppin' so hard like a German Nazi \\nStartled by the bases hittin' ground \\nThere's no trippin' on mine, I'm just gettin' down \\nSparkamatic, I'm hangin' tight like a fanatic \\nYou trapped me once and I thought that \\nYou might have it \\nSo step down and lend me your ear \\n'89 in my time! You, '90 is my year. \\n\\nYou're weakenin' fast, YO! and I can tell it \\nYour body's gettin' hot, so, so I can smell it \\nSo don't be mad and don't be sad \\n'Cause the lyrics belong to ICE, You can call me Dad \\nYou're pitchin' a fit, so step back and endure \\nLet the witch doctor, Ice, do the dance to cure \\nSo come up close and don't be square \\nYou wanna battle me -- Anytime, anywhere \\n\\nYou thought that I was weak, Boy, you're dead wrong \\nSo come on, everybody and sing this song \\n\\nSay -- Play that funky music Say, go white boy, go white boy go \\nplay that funky music Go white boy, go white boy, go \\nLay down and boogie and play that funky music till you die. \\n\\nPlay that funky music Come on, Come on, let me hear \\nPlay that funky music white boy you say it, say it \\nPlay that funky music A little louder now \\nPlay that funky music, white boy Come on, Come on, Come on \\nPlay that funky music \\n\\x04\\x04\\x04\\x04\"\n"
     ]
    }
   ],
   "source": [
    "from urllib.request import urlopen\n",
    "from base64 import b64decode\n",
    "from cryptography.hazmat.primitives.ciphers import Cipher, algorithms, modes\n",
    "from cryptography.hazmat.backends import default_backend\n",
    "\n",
    "def AES_ECB_encrypt(plaintext, key):\n",
    "    cipher = Cipher(algorithms.AES(key), modes.ECB(), backend=default_backend())\n",
    "    encryptor = cipher.encryptor()\n",
    "    ciphertext = encryptor.update(plaintext) + encryptor.finalize()\n",
    "    return ciphertext\n",
    "\n",
    "def AES_ECB_decrypt(ciphertext, key):\n",
    "    cipher = Cipher(algorithms.AES(key), modes.ECB(), backend=default_backend())\n",
    "    decryptor = cipher.decryptor()\n",
    "    plaintext = decryptor.update(ciphertext) + decryptor.finalize()\n",
    "    return plaintext\n",
    "\n",
    "def main():\n",
    "    ciphertext = b''\n",
    "    with urlopen('https://cryptopals.com/static/challenge-data/7.txt') as data:\n",
    "        for line in data:\n",
    "            ciphertext += b64decode(line.rstrip())\n",
    "    print(AES_ECB_decrypt(ciphertext, b'YELLOW SUBMARINE'))\n",
    "    \n",
    "    # The following is a test of the encrypt and decrypt for Challenge 10.\n",
    "    # It uses the padding method from Challenge 9\n",
    "#     message = PKCS7_pad(\n",
    "#         b'It was the best of times, it was the worst of times, it was the age of wisdom, '\n",
    "#         b'it was the age of foolishness, it was the epoch of belief, it was the epoch of incredulity, '\n",
    "#         b'it was the season of Light, it was the season of Darkness, it was the spring of hope, '\n",
    "#         b'it was the winter of despair.', 16\n",
    "#     )\n",
    "#     key = b'YELLOW SUBMARINE'\n",
    "#     ciphertext = AES_ECB_encrypt(message, key)\n",
    "#     plaintext = PKCS7_unpad(AES_ECB_decrypt(ciphertext, key))\n",
    "#     print(plaintext)\n",
    "\n",
    "main()"
   ]
  },
  {
   "cell_type": "markdown",
   "metadata": {},
   "source": [
    "### Challenge 8\n",
    "\n",
    "Detect AES in ECB mode"
   ]
  },
  {
   "cell_type": "code",
   "execution_count": 8,
   "metadata": {},
   "outputs": [
    {
     "name": "stdout",
     "output_type": "stream",
     "text": [
      "ECB mode detected on line 133\n",
      "Number of repetitions = 3\n",
      "\n",
      "d880619740a8a19b7840a8a31c810a3d08649af70dc06f4fd5d2d69c744cd283e2dd052f6b641dbf9d11b0348542bb5708649af70dc06f4fd5d2d69c744cd2839475c9dfdbc1d46597949d9c7e82bf5a08649af70dc06f4fd5d2d69c744cd28397a93eab8d6aecd566489154789a6b0308649af70dc06f4fd5d2d69c744cd283d403180c98c8f6db1f2a3f9c4040deb0ab51b29933f2c123c58386b06fba186a\n"
     ]
    }
   ],
   "source": [
    "from urllib.request import urlopen\n",
    "\n",
    "def detect_AES_ECB(ciphertext, keysize=16):\n",
    "    blocks = [ciphertext[i:i+keysize] for i in range(0, len(ciphertext), keysize)]\n",
    "    return len(blocks) - len(set(blocks))\n",
    "\n",
    "def main():\n",
    "    scores = []\n",
    "    ciphertext_list = []\n",
    "    with urlopen('https://cryptopals.com/static/challenge-data/8.txt') as data:\n",
    "        for line in data:\n",
    "            ciphertext = bytes.fromhex(line.rstrip().decode())\n",
    "            scores.append(detect_AES_ECB(ciphertext))\n",
    "            ciphertext_list.append(ciphertext)\n",
    "    \n",
    "    best_score = max(scores)\n",
    "    print(f\"ECB mode detected on line {scores.index(best_score) + 1}\\nNumber of repetitions = {best_score}\")\n",
    "    print()\n",
    "    print(ciphertext_list[scores.index(best_score)].hex())\n",
    "    \n",
    "main()"
   ]
  },
  {
   "cell_type": "markdown",
   "metadata": {},
   "source": [
    "---\n",
    "# Set 2\n",
    "\n",
    "##### Block Crypto\n",
    "---"
   ]
  },
  {
   "cell_type": "markdown",
   "metadata": {},
   "source": [
    "### Challenge 9\n",
    "\n",
    "Implement PKCS#7 padding"
   ]
  },
  {
   "cell_type": "code",
   "execution_count": 9,
   "metadata": {},
   "outputs": [
    {
     "name": "stdout",
     "output_type": "stream",
     "text": [
      "b'YELLOW SUBMARINE' -> b'YELLOW SUBMARINE\\x04\\x04\\x04\\x04' -> b'YELLOW SUBMARINE'\n"
     ]
    }
   ],
   "source": [
    "def PKCS7_pad(plaintext, blocksize):\n",
    "    pad_size = blocksize - (len(plaintext) % blocksize)\n",
    "    padding = b''.join([bytes([pad_size]) for _ in range(pad_size)])\n",
    "    return plaintext + padding\n",
    "\n",
    "def PKCS7_unpad(padded_data):\n",
    "    pad_size = padded_data[-1]\n",
    "    unpadded_data = padded_data[:-pad_size]\n",
    "    return unpadded_data\n",
    "\n",
    "def main():\n",
    "    data = b'YELLOW SUBMARINE'\n",
    "    padded_data = PKCS7_pad(data, 20)\n",
    "    unpadded_data = PKCS7_unpad(padded_data)\n",
    "    print(f'{data} -> {padded_data} -> {unpadded_data}')\n",
    "\n",
    "main()"
   ]
  },
  {
   "cell_type": "markdown",
   "metadata": {},
   "source": [
    "### Challenge 10\n",
    "\n",
    "Implement CBC mode"
   ]
  },
  {
   "cell_type": "code",
   "execution_count": 10,
   "metadata": {},
   "outputs": [
    {
     "name": "stdout",
     "output_type": "stream",
     "text": [
      "b'It was the best of times, it was the worst of times, it was the age of wisdom, it was the age of foolishness, it was the epoch of belief, it was the epoch of incredulity, it was the season of Light, it was the season of Darkness, it was the spring of hope, it was the winter of despair.'\n"
     ]
    }
   ],
   "source": [
    "import os\n",
    "from urllib.request import urlopen\n",
    "\n",
    "def AES_CBC_encrypt(plaintext, key, iv):\n",
    "    # Key must be 128, 192, or 256 bits, and plaintext must already be padded\n",
    "    assert len(key) == 16 or len(key) == 24 or len(key) == 32\n",
    "    assert len(plaintext) % len(key) == 0\n",
    "    \n",
    "    blocks = [plaintext[i:i+len(key)] for i in range(0, len(plaintext), len(key))]\n",
    "    ciphertext_blocks = []\n",
    "    \n",
    "    for block in blocks:\n",
    "        if len(ciphertext_blocks) == 0:\n",
    "            xor_block = fixed_xor(block, iv)  # fixed_xor() from Challenge 2\n",
    "        else:\n",
    "            xor_block = fixed_xor(block, ciphertext_blocks[-1])  # fixed_xor() from Challenge 2\n",
    "        \n",
    "        ciphertext_blocks.append(AES_ECB_encrypt(xor_block, key))  # ECB encryption from Challenge 7\n",
    "    \n",
    "    ciphertext = b''.join(ciphertext_blocks)\n",
    "    return ciphertext\n",
    "\n",
    "def AES_CBC_decrypt(ciphertext, key, iv):\n",
    "    # Key must be 128, 192, or 256 bits, and ciphertext must already be padded\n",
    "    assert len(key) == 16 or len(key) == 24 or len(key) == 32\n",
    "    assert len(ciphertext) % len(key) == 0\n",
    "    \n",
    "    blocks = [ciphertext[i:i+len(key)] for i in range(0, len(ciphertext), len(key))]\n",
    "    plaintext_blocks = []\n",
    "    \n",
    "    for i in range(len(blocks)):\n",
    "        block = blocks[i]\n",
    "        \n",
    "        decrypted_block = AES_ECB_decrypt(block, key)  # ECB decryption from Challenge 7\n",
    "        \n",
    "        if len(plaintext_blocks) == 0:\n",
    "            plaintext_blocks.append(fixed_xor(decrypted_block, iv))  # fixed_xor() from Challenge 2\n",
    "        else:\n",
    "            plaintext_blocks.append(fixed_xor(decrypted_block, blocks[i - 1]))  # fixed_xor() from Challenge 2\n",
    "    \n",
    "    plaintext = b''.join(plaintext_blocks)\n",
    "    return plaintext\n",
    "            \n",
    "def main():\n",
    "    key = b'YELLOW SUBMARINE'\n",
    "    iv = os.urandom(len(key))\n",
    "    message = PKCS7_pad(  # Padding function from Challenge 9\n",
    "        b'It was the best of times, it was the worst of times, it was the age of wisdom, '\n",
    "        b'it was the age of foolishness, it was the epoch of belief, it was the epoch of incredulity, '\n",
    "        b'it was the season of Light, it was the season of Darkness, it was the spring of hope, '\n",
    "        b'it was the winter of despair.', len(key)\n",
    "    )\n",
    "    ciphertext = AES_CBC_encrypt(message, key, iv)\n",
    "    plaintext = PKCS7_unpad(AES_CBC_decrypt(ciphertext, key, iv))  # Padding function from Challenge 9\n",
    "    print(plaintext)\n",
    "    \n",
    "#     key = b'YELLOW SUBMARINE'\n",
    "#     iv = bytes(16)\n",
    "#     ciphertext = b''\n",
    "#     with urlopen('https://cryptopals.com/static/challenge-data/10.txt') as data:\n",
    "#         for line in data:\n",
    "#             ciphertext += b64decode(line.rstrip())\n",
    "    \n",
    "#     plaintext = PKCS7_unpad(AES_CBC_decrypt(ciphertext, key, iv))  # Padding function from Challenge 9\n",
    "#     print(plaintext)\n",
    "    \n",
    "main()"
   ]
  },
  {
   "cell_type": "markdown",
   "metadata": {},
   "source": [
    "### Challenge 11\n",
    "\n",
    "An ECB/CBC detection oracle"
   ]
  },
  {
   "cell_type": "code",
   "execution_count": 11,
   "metadata": {},
   "outputs": [
    {
     "name": "stdout",
     "output_type": "stream",
     "text": [
      "The correct mode was guessed 100.0% of the time.\n"
     ]
    }
   ],
   "source": [
    "import os\n",
    "from random import randint\n",
    "\n",
    "def encryption_oracle(plaintext):\n",
    "    rand_key = os.urandom(16)\n",
    "    front_pad = os.urandom(randint(5, 10))\n",
    "    back_pad = os.urandom(randint(5, 10))\n",
    "    data = PKCS7_pad(front_pad + plaintext + back_pad, 16)\n",
    "    if randint(0, 1):\n",
    "        return AES_ECB_encrypt(data, rand_key), 'ECB'\n",
    "    else:\n",
    "        return AES_CBC_encrypt(data, rand_key, iv=os.urandom(16)), 'CBC'\n",
    "\n",
    "def detect_ECB_or_CBC(ciphertext, plaintext_length):\n",
    "    score = detect_AES_ECB(ciphertext)  # from Challenge 8\n",
    "    \n",
    "    # If at least half of the blocks are duplicates, then we guess ECB mode.\n",
    "    # The 50% requirement is somewhat arbitrary, but is based on Challenge 12.\n",
    "    # For my code here, you can increase the requirement to 66% before it starts making mistakes\n",
    "    if (score / (plaintext_length // 16)) * 100 >= 50:\n",
    "        return 'ECB'\n",
    "    else:\n",
    "        return 'CBC'\n",
    "\n",
    "def main():\n",
    "    percentage = 0\n",
    "    r = 10000\n",
    "    for _ in range(r):\n",
    "        message = b'A' * randint(100, 200)\n",
    "        ciphertext, mode = encryption_oracle(message)\n",
    "        potential_mode = detect_ECB_or_CBC(ciphertext, len(message))\n",
    "        if mode == potential_mode:\n",
    "            percentage += 1\n",
    "    print(f\"The correct mode was guessed {(percentage / r) * 100}% of the time.\")\n",
    "\n",
    "main()"
   ]
  },
  {
   "cell_type": "markdown",
   "metadata": {},
   "source": [
    "### Challenge 12\n",
    "\n",
    "Byte-at-a-time ECB decryption (Simple)"
   ]
  },
  {
   "cell_type": "code",
   "execution_count": 64,
   "metadata": {},
   "outputs": [
    {
     "name": "stdout",
     "output_type": "stream",
     "text": [
      "b\"Rollin' in my 5.0\\nWith my rag-top down so my hair can blow\\nThe girlies on standby waving just to say hi\\nDid you stop? No, I just drove by\\n\"\n"
     ]
    }
   ],
   "source": [
    "import os\n",
    "from base64 import b64decode\n",
    "\n",
    "rand_key = os.urandom(16)\n",
    "unknown_string = b64decode(\n",
    "    b'Um9sbGluJyBpbiBteSA1LjAKV2l0aCBteSByYWctdG9wIGRvd24gc28gbXkg' +\n",
    "    b'aGFpciBjYW4gYmxvdwpUaGUgZ2lybGllcyBvbiBzdGFuZGJ5IHdhdmluZyBq' +\n",
    "    b'dXN0IHRvIHNheSBoaQpEaWQgeW91IHN0b3A/IE5vLCBJIGp1c3QgZHJvdmUg' +\n",
    "    b'YnkK'\n",
    ")\n",
    "\n",
    "def encryption_oracle(plaintext):\n",
    "    plaintext = PKCS7_pad(plaintext + unknown_string, len(rand_key))\n",
    "    return AES_ECB_encrypt(plaintext, rand_key)\n",
    "\n",
    "def get_block_and_pad_size():\n",
    "    base_length = len(encryption_oracle(bytes()))\n",
    "    pad_size = 1\n",
    "    while True:\n",
    "        data = b'A' * pad_size\n",
    "        new_length = len(encryption_oracle(data))\n",
    "        potential_block_size = new_length - base_length\n",
    "        if potential_block_size:\n",
    "            return potential_block_size, pad_size\n",
    "        pad_size += 1\n",
    "\n",
    "def match_next_byte(input_string, output, start, end):\n",
    "    for c in range(256):\n",
    "        guess_byte = chr(c).encode()\n",
    "        guess_input = input_string + guess_byte\n",
    "        guess_output = encryption_oracle(guess_input)[start:end]\n",
    "        if guess_output == output:\n",
    "            return guess_byte\n",
    "\n",
    "def get_unknown_string(block_size, pad_size):\n",
    "    base_length = len(encryption_oracle(bytes()))\n",
    "    solved_string = b''\n",
    "    for i in range(base_length-1, pad_size-1, -1):\n",
    "        input_string = (b'A' * i)\n",
    "        \n",
    "        start = base_length - block_size\n",
    "        end = base_length\n",
    "        output = encryption_oracle(input_string)[start:end]\n",
    "        \n",
    "        solved_string += match_next_byte(input_string + solved_string, output, start, end)\n",
    "    return solved_string\n",
    "\n",
    "def main():\n",
    "    block_size, pad_size = get_block_and_pad_size()\n",
    "    assert detect_ECB_or_CBC(encryption_oracle(b'A' * 32), 32) == 'ECB'\n",
    "    solved_string = get_unknown_string(block_size, pad_size)\n",
    "    print(solved_string)\n",
    "\n",
    "main()"
   ]
  },
  {
   "cell_type": "code",
   "execution_count": null,
   "metadata": {},
   "outputs": [],
   "source": []
  }
 ],
 "metadata": {
  "kernelspec": {
   "display_name": "Python 3",
   "language": "python",
   "name": "python3"
  },
  "language_info": {
   "codemirror_mode": {
    "name": "ipython",
    "version": 3
   },
   "file_extension": ".py",
   "mimetype": "text/x-python",
   "name": "python",
   "nbconvert_exporter": "python",
   "pygments_lexer": "ipython3",
   "version": "3.6.7"
  }
 },
 "nbformat": 4,
 "nbformat_minor": 2
}
